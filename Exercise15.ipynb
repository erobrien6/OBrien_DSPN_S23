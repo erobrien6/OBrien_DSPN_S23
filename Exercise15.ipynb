{
  "cells": [
    {
      "cell_type": "markdown",
      "metadata": {
        "id": "view-in-github",
        "colab_type": "text"
      },
      "source": [
        "<a href=\"https://colab.research.google.com/github/erobrien6/OBrien_DSPN_S23/blob/main/Exercise15.ipynb\" target=\"_parent\"><img src=\"https://colab.research.google.com/assets/colab-badge.svg\" alt=\"Open In Colab\"/></a>"
      ]
    },
    {
      "cell_type": "markdown",
      "metadata": {
        "id": "-2W919d2ZXp7"
      },
      "source": [
        "# Exercise 15: Power Analyses"
      ]
    },
    {
      "cell_type": "markdown",
      "metadata": {
        "id": "L4nOzVhyZXqK"
      },
      "source": [
        "This  assignment is designed to give you practice with Monte Carlo methods to conduct power analyses via simulation. You won't need to load in any data for this homework. We will, however, be using parts of the homework from last week."
      ]
    },
    {
      "cell_type": "markdown",
      "metadata": {
        "id": "9DsyBTB6ZXqN"
      },
      "source": [
        "---\n",
        "## 1. Simulating data (1 points)\n"
      ]
    },
    {
      "cell_type": "markdown",
      "metadata": {
        "id": "J1f6MywYhyzN"
      },
      "source": [
        "Pull your `simulate_data()` function from your last homework and add it below. \n",
        "\n",
        "As a reminder, this function simulates the relationship between age, word reading experience, and reading comprehension skill. \n",
        "\n",
        "`c` is reading comprehension, and `x` is word reading experience."
      ]
    },
    {
      "cell_type": "code",
      "execution_count": 47,
      "metadata": {
        "id": "UnBVazYfZXqP",
        "colab": {
          "base_uri": "https://localhost:8080/",
          "height": 286
        },
        "outputId": "797900f9-149d-4ec2-a70a-50222be17d28"
      },
      "outputs": [
        {
          "output_type": "display_data",
          "data": {
            "text/html": [
              "<table class=\"dataframe\">\n",
              "<caption>A data.frame: 6 × 3</caption>\n",
              "<thead>\n",
              "\t<tr><th></th><th scope=col>age</th><th scope=col>x</th><th scope=col>c</th></tr>\n",
              "\t<tr><th></th><th scope=col>&lt;dbl&gt;</th><th scope=col>&lt;dbl&gt;</th><th scope=col>&lt;dbl&gt;</th></tr>\n",
              "</thead>\n",
              "<tbody>\n",
              "\t<tr><th scope=row>1</th><td>166.50847</td><td> 51.23493</td><td>159.2687</td></tr>\n",
              "\t<tr><th scope=row>2</th><td>185.09278</td><td>184.93102</td><td>759.4811</td></tr>\n",
              "\t<tr><th scope=row>3</th><td>171.31788</td><td> 83.33845</td><td>413.6686</td></tr>\n",
              "\t<tr><th scope=row>4</th><td>186.33495</td><td>105.75062</td><td>407.7675</td></tr>\n",
              "\t<tr><th scope=row>5</th><td>134.77772</td><td> 28.84003</td><td>195.1092</td></tr>\n",
              "\t<tr><th scope=row>6</th><td> 99.96461</td><td> 58.87999</td><td>245.2812</td></tr>\n",
              "</tbody>\n",
              "</table>\n"
            ],
            "text/markdown": "\nA data.frame: 6 × 3\n\n| <!--/--> | age &lt;dbl&gt; | x &lt;dbl&gt; | c &lt;dbl&gt; |\n|---|---|---|---|\n| 1 | 166.50847 |  51.23493 | 159.2687 |\n| 2 | 185.09278 | 184.93102 | 759.4811 |\n| 3 | 171.31788 |  83.33845 | 413.6686 |\n| 4 | 186.33495 | 105.75062 | 407.7675 |\n| 5 | 134.77772 |  28.84003 | 195.1092 |\n| 6 |  99.96461 |  58.87999 | 245.2812 |\n\n",
            "text/latex": "A data.frame: 6 × 3\n\\begin{tabular}{r|lll}\n  & age & x & c\\\\\n  & <dbl> & <dbl> & <dbl>\\\\\n\\hline\n\t1 & 166.50847 &  51.23493 & 159.2687\\\\\n\t2 & 185.09278 & 184.93102 & 759.4811\\\\\n\t3 & 171.31788 &  83.33845 & 413.6686\\\\\n\t4 & 186.33495 & 105.75062 & 407.7675\\\\\n\t5 & 134.77772 &  28.84003 & 195.1092\\\\\n\t6 &  99.96461 &  58.87999 & 245.2812\\\\\n\\end{tabular}\n",
            "text/plain": [
              "  age       x         c       \n",
              "1 166.50847  51.23493 159.2687\n",
              "2 185.09278 184.93102 759.4811\n",
              "3 171.31788  83.33845 413.6686\n",
              "4 186.33495 105.75062 407.7675\n",
              "5 134.77772  28.84003 195.1092\n",
              "6  99.96461  58.87999 245.2812"
            ]
          },
          "metadata": {}
        }
      ],
      "source": [
        "sample_size = 100 # How many children in data set? \n",
        "age_lo = 80     # minimum age, in months\n",
        "age_hi = 200    # maximum age, in months\n",
        "beta_xa = 0.5   # amount by which experience changes for increase of one month in age\n",
        "beta_x0 = -5    # amount of experience when age = 0 (not interpretable, since minimum age for this data is 80 months)\n",
        "sd_x = 50       # standard dev of gaussian noise term, epsilon_x\n",
        "beta_ca = 0.8   # amount that comprehension score improves for every increase of one unit in age\n",
        "beta_cx = 3     # amount that comprehension score improves for every increase of one unit in reading experience\n",
        "beta_c0 = 10    # comprehension score when reading experience is 0. \n",
        "sd_c = 85      # standard dev of gaussian noise term, epsilon_c\n",
        "\n",
        "set.seed(12345)\n",
        "simulate_data <- function(sample_size, age_lo, age_hi, beta_xa, beta_x0, sd_x, beta_ca, beta_cx, beta_c0, sd_c) {\n",
        "      age <- runif(sample_size, age_lo, age_hi)\n",
        "      x_error <- rnorm(sample_size, mean=0, sd=sd_x)\n",
        "      c_error <- rnorm(sample_size, mean=0, sd=sd_c)\n",
        "      x <- beta_xa*age + beta_x0 + x_error\n",
        "      c <- beta_ca*age + beta_cx*x + beta_c0 + c_error   \n",
        "      return(data.frame(age=age,x=x,c=c))\n",
        "}\n",
        "\n",
        "dat <- simulate_data(sample_size, age_lo, age_hi, beta_xa, beta_x0, sd_x, beta_ca, beta_cx, beta_c0, sd_c)\n",
        "head(dat)"
      ]
    },
    {
      "cell_type": "markdown",
      "metadata": {
        "id": "T3b3_KsHk-xD"
      },
      "source": [
        "---\n",
        "## 2. `run_analysis()` function (2 pts)"
      ]
    },
    {
      "cell_type": "markdown",
      "metadata": {
        "id": "TJyPIaTO8zCS"
      },
      "source": [
        "Last week, we looked at whether word reading experience(`x`) mediated the relation between `age` and reading comprehension (`c`).\n",
        "\n",
        "Now we're going to use our `simulate_data()` function to conduct a power analysis. The goal is to determine how many participants we would need in order to detect both the mediated and the direct effects in this data. \n",
        "\n",
        "*Note: We're going to pretend for the sake of simplicity that we don't have any control over the ages of the children we get (so ages are generated using `runif(sample_size, age_lo, age_hi)`, although of course this would be an unusual situation in reality.*\n",
        "\n",
        "First, write a function, `run_analysis()`, that takes in simulated data, runs **your mediation from last week**, and returns a vector containing the ACME and ADE estimates and p-values (these are the `d0`, `d0.p`, `z0`, and `z0.p` features of the mediated model object, e.g., `fitMed$d0.p`). Print this function's output for the data we simulated previously. "
      ]
    },
    {
      "cell_type": "code",
      "source": [
        "install.packages('mediation')\n",
        "library(mediation)"
      ],
      "metadata": {
        "id": "WmOUbNuiNmEf"
      },
      "execution_count": null,
      "outputs": []
    },
    {
      "cell_type": "code",
      "execution_count": 54,
      "metadata": {
        "id": "AidH_KidrX9L",
        "scrolled": true,
        "colab": {
          "base_uri": "https://localhost:8080/",
          "height": 34
        },
        "outputId": "c99d06d0-ee05-43cc-b8e4-4f3526410c0f"
      },
      "outputs": [
        {
          "output_type": "display_data",
          "data": {
            "text/html": [
              "<style>\n",
              ".list-inline {list-style: none; margin:0; padding: 0}\n",
              ".list-inline>li {display: inline-block}\n",
              ".list-inline>li:not(:last-child)::after {content: \"\\00b7\"; padding: 0 .5ex}\n",
              "</style>\n",
              "<ol class=list-inline><li>1.13187144759036</li><li>0.018</li><li>0.727299100380391</li><li>0.002</li></ol>\n"
            ],
            "text/markdown": "1. 1.13187144759036\n2. 0.018\n3. 0.727299100380391\n4. 0.002\n\n\n",
            "text/latex": "\\begin{enumerate*}\n\\item 1.13187144759036\n\\item 0.018\n\\item 0.727299100380391\n\\item 0.002\n\\end{enumerate*}\n",
            "text/plain": [
              "[1] 1.1318714 0.0180000 0.7272991 0.0020000"
            ]
          },
          "metadata": {}
        }
      ],
      "source": [
        "# Function\n",
        "run_analysis <- function(dat) {\n",
        "  fitM <- lm(x ~ age, data=dat)\n",
        "  fitY <- lm(c ~ x + age, data=dat)\n",
        "  fitMed <- mediate(fitM, fitY, treat='age', mediator='x')\n",
        "  vec <- c(fitMed$d0, round(fitMed$d0.p, digits=4), fitMed$z0, round(fitMed$z0.p, digits=4))\n",
        "}\n",
        "vec_output <- run_analysis(dat)\n",
        "vec_output\n"
      ]
    },
    {
      "cell_type": "markdown",
      "metadata": {
        "id": "bHxz5W2r5s79"
      },
      "source": [
        "---\n",
        "## 3. `repeat_analysis()` function (3 pts)"
      ]
    },
    {
      "cell_type": "markdown",
      "metadata": {
        "id": "G_jvc1XQBCpH"
      },
      "source": [
        "Next fill in the function `repeat_analysis()` below so that it simulates and analyzes data `num_simulations` times. Store the outputs from each simulation in the `simouts` matrix. Calculate and return the coverage across all the simulations run for both ACME and ADE."
      ]
    },
    {
      "cell_type": "code",
      "source": [
        "repeat_analysis <- function(num_simulations, alpha, sample_size, age_lo, age_hi, \n",
        "        beta_xa, beta_x0, sd_x, beta_ca, beta_cx, beta_c0, sd_c) {\n",
        "    # Initialize simouts matrix for storing each output from run_analysis()\n",
        "    simouts <- matrix(rep(NA, num_simulations*4), nrow=num_simulations, ncol=4)\n",
        "\n",
        "    # Start simulating\n",
        "    for (i in 1:num_simulations) {\n",
        "      dat <- simulate_data(sample_size, age_lo, age_hi, beta_xa, beta_x0, sd_x, beta_ca, beta_cx, beta_c0, sd_c)\n",
        "      simouts[i,] <- run_analysis(dat)\n",
        "      }\n",
        "    \n",
        "    # Calculate coverage for both ACME and ADE estimates using p-values in simouts\n",
        "    ACME_cov = mean(simouts[,2]<=alpha) # p value for ACME\n",
        "    ADE_cov =  mean(simouts[,4]<=alpha) # p value for ADE - taking mean of T/F vector, indicates how many were signif\n",
        "\n",
        "    return(list(ACME_cov = ACME_cov, ADE_cov = ADE_cov))\n",
        "\n",
        "        }"
      ],
      "metadata": {
        "id": "D5A-YOBvGvJe"
      },
      "execution_count": 55,
      "outputs": []
    },
    {
      "cell_type": "markdown",
      "metadata": {
        "id": "bM5J5pYyQoRL"
      },
      "source": [
        "Now run the `repeat_analysis()` function using the same parameter settings as above, for 10 simulations, with an alpha criterion of 0.01. "
      ]
    },
    {
      "cell_type": "code",
      "execution_count": 56,
      "metadata": {
        "id": "RpURGbZQQlEK",
        "colab": {
          "base_uri": "https://localhost:8080/",
          "height": 114
        },
        "outputId": "15d60983-627b-4e18-e7cb-337bcf1f70c8"
      },
      "outputs": [
        {
          "output_type": "display_data",
          "data": {
            "text/html": [
              "<dl>\n",
              "\t<dt>$ACME_cov</dt>\n",
              "\t\t<dd>1</dd>\n",
              "\t<dt>$ADE_cov</dt>\n",
              "\t\t<dd>0.4</dd>\n",
              "</dl>\n"
            ],
            "text/markdown": "$ACME_cov\n:   1\n$ADE_cov\n:   0.4\n\n\n",
            "text/latex": "\\begin{description}\n\\item[\\$ACME\\_cov] 1\n\\item[\\$ADE\\_cov] 0.4\n\\end{description}\n",
            "text/plain": [
              "$ACME_cov\n",
              "[1] 1\n",
              "\n",
              "$ADE_cov\n",
              "[1] 0.4\n"
            ]
          },
          "metadata": {}
        }
      ],
      "source": [
        "# WRITE YOUR CODE HERE\n",
        "coverage <- repeat_analysis(10, 0.01, 100, age_lo, age_hi, beta_xa, beta_x0, sd_x, beta_ca, beta_cx, beta_c0, sd_c)\n",
        "coverage"
      ]
    },
    {
      "cell_type": "markdown",
      "metadata": {
        "id": "imIoN4w65s7_"
      },
      "source": [
        "---\n",
        "## 4. Testing different sample sizes (2 pts)"
      ]
    },
    {
      "cell_type": "markdown",
      "metadata": {
        "id": "CzeTaoY7SaXv"
      },
      "source": [
        "Finally, do the same thing (10 simulations, alpha criterion of 0.01) but for 5 different sample sizes: 50, 75, 100, 125, 150. You can do this using `map` (as in the tutorial), or a simple `for` loop, or by calculating each individually. Up to you! This should take around 3 minutes to run. \n",
        "\n",
        "Print your results."
      ]
    },
    {
      "cell_type": "code",
      "execution_count": 57,
      "metadata": {
        "id": "mp-a19XsS8Md"
      },
      "outputs": [],
      "source": [
        "# 50\n",
        "coverage_50 <- repeat_analysis(10, 0.01, 50, age_lo, age_hi, beta_xa, beta_x0, sd_x, beta_ca, beta_cx, beta_c0, sd_c)\n",
        "\n",
        "# 75\n",
        "coverage_75 <- repeat_analysis(10, 0.01, 75, age_lo, age_hi, beta_xa, beta_x0, sd_x, beta_ca, beta_cx, beta_c0, sd_c)\n",
        "\n",
        "# 100\n",
        "coverage_100 <- repeat_analysis(10, 0.01, 100, age_lo, age_hi, beta_xa, beta_x0, sd_x, beta_ca, beta_cx, beta_c0, sd_c)\n",
        "\n",
        "# 125\n",
        "coverage_125 <- repeat_analysis(10, 0.01, 125, age_lo, age_hi, beta_xa, beta_x0, sd_x, beta_ca, beta_cx, beta_c0, sd_c)\n",
        "\n",
        "# 150\n",
        "coverage_150 <- repeat_analysis(10, 0.01, 150, age_lo, age_hi, beta_xa, beta_x0, sd_x, beta_ca, beta_cx, beta_c0, sd_c)\n"
      ]
    },
    {
      "cell_type": "code",
      "source": [
        "print(cbind(coverage_50, coverage_75, coverage_100, coverage_125, coverage_150))"
      ],
      "metadata": {
        "colab": {
          "base_uri": "https://localhost:8080/"
        },
        "id": "2-9oSGUkNs8F",
        "outputId": "69383248-ce3c-4c26-969d-f175fe440624"
      },
      "execution_count": 58,
      "outputs": [
        {
          "output_type": "stream",
          "name": "stdout",
          "text": [
            "         coverage_50 coverage_75 coverage_100 coverage_125 coverage_150\n",
            "ACME_cov 0.5         1           0.9          0.7          1           \n",
            "ADE_cov  0.3         0.6         0.8          0.8          1           \n"
          ]
        }
      ]
    },
    {
      "cell_type": "markdown",
      "metadata": {
        "id": "q3Oo6npB5s8B"
      },
      "source": [
        "## 5. Reflection (2 pts)"
      ]
    },
    {
      "cell_type": "markdown",
      "metadata": {
        "id": "tpbGkul2dr-5"
      },
      "source": [
        "If this were a real power analysis, we'd want to run more simulations per sample size (to get a more precise estimate of power) and we may also want to test out some other values of the parameters we used to simulate our data. However, what would you conclude just based on the results above? \n",
        "\n",
        "> *Based on my results, I would conclude that 50-100% of the mediation analyses yielded significant results for mediated effects, and 30-100% of the mediation analyses yielded significant results for direct effects. The coverage results varied a lot based on the sample size and the simulated data, so running more simulations should give more consistent results. Overall, it seems that this power analysis was more likely to detect significant effects for the mediated rather than direct effects.* \n",
        "> "
      ]
    },
    {
      "cell_type": "markdown",
      "metadata": {
        "id": "RcCo3QOifUi5"
      },
      "source": [
        "**Given** how we generated the data, why was the direct effect harder to detect than the mediated effect?\n",
        "> *The direct effect is detected by examining how age predicts reading comprehension when reading experience (mediator) is held constant. When we generated the data and executed our mediation model, reading comprehension, c, had two predictor terms considering effects of age and reading experience (x), and then it had an error term. However, when we generated our equation for x, it only accounted for age and an error term.  This could mean that because c is represented by two predictors, the variance it shares with either is reduced. Therefore, the mediated effect may be significant in more simulated cases (higher probability of being significant). Moreover, the way we simulated the data allowed the mediator and outcome variable to be highly correlated, so the direct effect of age on reading comprehension may also be harder to detect because it doesn’t account for reading experience, whereas the indirect effects do.* "
      ]
    },
    {
      "cell_type": "markdown",
      "metadata": {
        "id": "C4MPECMmZXqe"
      },
      "source": [
        "**DUE:** 5pm EST, April 5, 2023"
      ]
    },
    {
      "cell_type": "markdown",
      "metadata": {
        "id": "r9GUofXN4BVy"
      },
      "source": [
        "**IMPORTANT** Did you collaborate with anyone on this assignment? If so, list their names here. \n",
        "> *Someone's Name*"
      ]
    }
  ],
  "metadata": {
    "colab": {
      "provenance": [],
      "include_colab_link": true
    },
    "kernelspec": {
      "display_name": "R",
      "language": "R",
      "name": "ir"
    },
    "language_info": {
      "codemirror_mode": "r",
      "file_extension": ".r",
      "mimetype": "text/x-r-source",
      "name": "R",
      "pygments_lexer": "r",
      "version": "4.2.0"
    }
  },
  "nbformat": 4,
  "nbformat_minor": 0
}