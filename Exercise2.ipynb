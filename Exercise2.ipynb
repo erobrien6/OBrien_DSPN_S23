{
  "cells": [
    {
      "cell_type": "markdown",
      "metadata": {
        "id": "view-in-github",
        "colab_type": "text"
      },
      "source": [
        "<a href=\"https://colab.research.google.com/github/erobrien6/OBrien_DSPN_S23/blob/main/Exercise2.ipynb\" target=\"_parent\"><img src=\"https://colab.research.google.com/assets/colab-badge.svg\" alt=\"Open In Colab\"/></a>"
      ]
    },
    {
      "cell_type": "markdown",
      "metadata": {
        "id": "Nc1HSgMdSjor"
      },
      "source": [
        "# Exercise 2: Coding Habits & Functions"
      ]
    },
    {
      "cell_type": "markdown",
      "metadata": {
        "id": "H4AS_dIZSjou"
      },
      "source": [
        "This assignment will give you some practice writing your own functions and using the coding best practices discussed in the tutorial.\n",
        "\n",
        "---"
      ]
    },
    {
      "cell_type": "markdown",
      "metadata": {
        "id": "dSYiDq8GSjov"
      },
      "source": [
        "## 1. Summary statistics (4 pts)\n",
        "\n",
        "Write a function that takes a vector of numbers `x` and returns the length, mean, and standard deviation of `x` as a new vector.\n",
        "\n",
        "In keeping with our best practices, give the function a short but descriptive name, and use snake case if it involves multiple words. \n",
        "\n",
        "Hint: Vectors are defined in R using the `c()` command."
      ]
    },
    {
      "cell_type": "code",
      "execution_count": null,
      "metadata": {
        "id": "sNYvvoK6Sjov",
        "outputId": "1941b169-38ff-4847-90a3-aaf49848e30e",
        "colab": {
          "base_uri": "https://localhost:8080/",
          "height": 34
        }
      },
      "outputs": [
        {
          "output_type": "display_data",
          "data": {
            "text/html": [
              "<style>\n",
              ".list-inline {list-style: none; margin:0; padding: 0}\n",
              ".list-inline>li {display: inline-block}\n",
              ".list-inline>li:not(:last-child)::after {content: \"\\00b7\"; padding: 0 .5ex}\n",
              "</style>\n",
              "<ol class=list-inline><li>5</li><li>6</li><li>3.16227766016838</li></ol>\n"
            ],
            "text/markdown": "1. 5\n2. 6\n3. 3.16227766016838\n\n\n",
            "text/latex": "\\begin{enumerate*}\n\\item 5\n\\item 6\n\\item 3.16227766016838\n\\end{enumerate*}\n",
            "text/plain": [
              "[1] 5.000000 6.000000 3.162278"
            ]
          },
          "metadata": {}
        }
      ],
      "source": [
        "#Write your function here\n",
        "summary_of_x <- function(x) {\n",
        "  length_x <- length(x)\n",
        "  mean_x <- mean(x, na.rm = T)\n",
        "  sd_x <- sd(x, na.rm = T)\n",
        "  summary_x <- c(length_x, mean_x, sd_x)\n",
        "  return(summary_x)\n",
        "}\n",
        "\n",
        "x <- c(2, 4, 6, 8, 10)\n",
        "summary_of_x(x)"
      ]
    },
    {
      "cell_type": "markdown",
      "metadata": {
        "id": "Kcx_2j4zSjow"
      },
      "source": [
        "Calculate the summary statistics of vector `v1`."
      ]
    },
    {
      "cell_type": "code",
      "execution_count": null,
      "metadata": {
        "scrolled": false,
        "id": "E9c-jRs6Sjow",
        "outputId": "104559ab-8005-4c25-b8db-329ba67d73b7",
        "colab": {
          "base_uri": "https://localhost:8080/",
          "height": 34
        }
      },
      "outputs": [
        {
          "output_type": "display_data",
          "data": {
            "text/html": [
              "<style>\n",
              ".list-inline {list-style: none; margin:0; padding: 0}\n",
              ".list-inline>li {display: inline-block}\n",
              ".list-inline>li:not(:last-child)::after {content: \"\\00b7\"; padding: 0 .5ex}\n",
              "</style>\n",
              "<ol class=list-inline><li>5</li><li>7.75</li><li>2.75378527364305</li></ol>\n"
            ],
            "text/markdown": "1. 5\n2. 7.75\n3. 2.75378527364305\n\n\n",
            "text/latex": "\\begin{enumerate*}\n\\item 5\n\\item 7.75\n\\item 2.75378527364305\n\\end{enumerate*}\n",
            "text/plain": [
              "[1] 5.000000 7.750000 2.753785"
            ]
          },
          "metadata": {}
        }
      ],
      "source": [
        "v1  <- c(5, 11, 6, NA, 9)\n",
        "# Went back and put 'na.rm = True' into function so that it runs considering NA values in v1 length\n",
        "summary_of_x(v1)"
      ]
    },
    {
      "cell_type": "markdown",
      "metadata": {
        "id": "_ieWUxA0Sjow"
      },
      "source": [
        "---\n",
        "## 2. T-test function (4 pts)\n",
        "\n",
        "The formula for a t-test is:"
      ]
    },
    {
      "cell_type": "markdown",
      "metadata": {
        "id": "qaM6UppoSjox"
      },
      "source": [
        "$$ \\frac{m- \\mu}{ \\frac{s}{\\sqrt{n}}} $$"
      ]
    },
    {
      "cell_type": "markdown",
      "metadata": {
        "id": "77nvNmnpSjox"
      },
      "source": [
        "Where m is the sample mean, $\\mu$ (mu) is the population mean, s is the standard deviation, and n is the sample size.\n",
        "\n",
        "Using your function above as a starting point, write a new function `ttest_fun` that compares a vector `x` to a given population mean `mu` and calculates the t-statistic. Keep the coding best practices in mind.\n",
        "\n",
        "Hint: You will need to add another argument for mu."
      ]
    },
    {
      "cell_type": "code",
      "execution_count": null,
      "metadata": {
        "id": "RRig82s8Sjoy",
        "outputId": "90583b3c-cfce-40b2-9473-8bb3079ee9d9",
        "colab": {
          "base_uri": "https://localhost:8080/",
          "height": 34
        }
      },
      "outputs": [
        {
          "output_type": "display_data",
          "data": {
            "text/html": [
              "0.109108945117996"
            ],
            "text/markdown": "0.109108945117996",
            "text/latex": "0.109108945117996",
            "text/plain": [
              "[1] 0.1091089"
            ]
          },
          "metadata": {}
        }
      ],
      "source": [
        "# Write ttest_fun here\n",
        "ttest_fun <- function(x, mu = 6) {\n",
        "  t <- ((mean(x, na.rm = T) - mu)) / (sd(x, na.rm = T)/sqrt(length(x)))\n",
        "  return(t)\n",
        "}\n",
        "\n",
        "x <- c(2, 4, 6, 8, 10, 12)\n",
        "ttest_fun(x)"
      ]
    },
    {
      "cell_type": "markdown",
      "metadata": {
        "id": "sCpUnJHxSjoy"
      },
      "source": [
        "Use your function to compare the mean of v1 to 10."
      ]
    },
    {
      "cell_type": "code",
      "execution_count": null,
      "metadata": {
        "id": "j7fD9RJdSjoy",
        "outputId": "ee180d3d-4121-4c49-be9e-2948aea29fb6",
        "colab": {
          "base_uri": "https://localhost:8080/",
          "height": 34
        }
      },
      "outputs": [
        {
          "output_type": "display_data",
          "data": {
            "text/html": [
              "-0.365399074323518"
            ],
            "text/markdown": "-0.365399074323518",
            "text/latex": "-0.365399074323518",
            "text/plain": [
              "[1] -0.3653991"
            ]
          },
          "metadata": {}
        }
      ],
      "source": [
        "ttest_fun(v1, 10)\n"
      ]
    },
    {
      "cell_type": "markdown",
      "metadata": {
        "id": "wtloD4Z2Sjoy"
      },
      "source": [
        "---\n",
        "## 3. Setting default values (2 pts)\n",
        "\n",
        "Set the default value of mu to 0. Test your modified function below by supplying only `v2` as an argument."
      ]
    },
    {
      "cell_type": "code",
      "execution_count": null,
      "metadata": {
        "id": "XYUDEc4ZSjoy"
      },
      "outputs": [],
      "source": [
        "# Write your modified ttest_fun here\n",
        "\n",
        "ttest_fun_mod <- function(x, mu = 0) {\n",
        "  t <- ((mean(x, na.rm = T) - mu)) / (sd(x, na.rm = T)/sqrt(length(x)))\n",
        "  return(t)\n",
        "}\n",
        "\n",
        "v2 <- c(1, 2, 3, 4, 5)\n"
      ]
    },
    {
      "cell_type": "code",
      "execution_count": null,
      "metadata": {
        "id": "hoZ8s-NHSjoz",
        "outputId": "af24e4ed-a8ac-4b76-b30d-24b44a2ef3b3",
        "colab": {
          "base_uri": "https://localhost:8080/",
          "height": 34
        }
      },
      "outputs": [
        {
          "output_type": "display_data",
          "data": {
            "text/html": [
              "4.24264068711928"
            ],
            "text/markdown": "4.24264068711928",
            "text/latex": "4.24264068711928",
            "text/plain": [
              "[1] 4.242641"
            ]
          },
          "metadata": {}
        }
      ],
      "source": [
        "ttest_fun_mod(v2)"
      ]
    },
    {
      "cell_type": "markdown",
      "metadata": {
        "id": "z2zxAQwySjoz"
      },
      "source": [
        "How does your result compare to R's built-in `t.test()` function?"
      ]
    },
    {
      "cell_type": "code",
      "execution_count": null,
      "metadata": {
        "scrolled": true,
        "id": "gbwR3F3vSjoz",
        "outputId": "d6755e69-bb20-4daf-b5a1-794ebfe10932",
        "colab": {
          "base_uri": "https://localhost:8080/",
          "height": 208
        }
      },
      "outputs": [
        {
          "output_type": "display_data",
          "data": {
            "text/plain": [
              "\n",
              "\tOne Sample t-test\n",
              "\n",
              "data:  v2\n",
              "t = 4.2426, df = 4, p-value = 0.01324\n",
              "alternative hypothesis: true mean is not equal to 0\n",
              "95 percent confidence interval:\n",
              " 1.036757 4.963243\n",
              "sample estimates:\n",
              "mean of x \n",
              "        3 \n"
            ]
          },
          "metadata": {}
        }
      ],
      "source": [
        "t.test(v2)\n",
        "# They're the same ! :)"
      ]
    },
    {
      "cell_type": "markdown",
      "metadata": {
        "id": "2slWzsoYGuLt"
      },
      "source": [
        "When you are finished, save the notebook as Exercise2.ipynb, push it to your class GitHub repository (the one you made for Exercise 1) and send the instructors a link to your notebook via Canvas. You can send messages via Canvas by clicking \"Inbox\" on the left and then pressing the icon with a pencil inside a square."
      ]
    },
    {
      "cell_type": "markdown",
      "metadata": {
        "id": "C4MPECMmZXqe"
      },
      "source": [
        "**DUE:** 5pm EST, Feb 6, 2023"
      ]
    },
    {
      "cell_type": "markdown",
      "metadata": {
        "id": "r9GUofXN4BVy"
      },
      "source": [
        "**IMPORTANT** Did you collaborate with anyone on this assignment? If so, list their names here. \n",
        "> *Kirby Sigler*"
      ]
    }
  ],
  "metadata": {
    "kernelspec": {
      "display_name": "R",
      "language": "R",
      "name": "ir"
    },
    "language_info": {
      "codemirror_mode": "r",
      "file_extension": ".r",
      "mimetype": "text/x-r-source",
      "name": "R",
      "pygments_lexer": "r",
      "version": "4.2.0"
    },
    "colab": {
      "provenance": [],
      "include_colab_link": true
    }
  },
  "nbformat": 4,
  "nbformat_minor": 0
}