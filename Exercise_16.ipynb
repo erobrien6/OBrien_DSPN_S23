{
  "cells": [
    {
      "cell_type": "markdown",
      "metadata": {
        "id": "view-in-github",
        "colab_type": "text"
      },
      "source": [
        "<a href=\"https://colab.research.google.com/github/erobrien6/OBrien_DSPN_S23/blob/main/Exercise_16.ipynb\" target=\"_parent\"><img src=\"https://colab.research.google.com/assets/colab-badge.svg\" alt=\"Open In Colab\"/></a>"
      ]
    },
    {
      "cell_type": "markdown",
      "metadata": {
        "id": "614c6a4a"
      },
      "source": [
        "# Exercise 16: Model selection"
      ],
      "id": "614c6a4a"
    },
    {
      "cell_type": "markdown",
      "metadata": {
        "id": "7e861f62"
      },
      "source": [
        "This homework is designed to give you practice implementing model selection techniques, including best subset selection and forward/backward stepwise selection.\n",
        "\n",
        "You won't need to load in any data for this homework, we will be simulating our own."
      ],
      "id": "7e861f62"
    },
    {
      "cell_type": "markdown",
      "metadata": {
        "id": "b065256e"
      },
      "source": [
        "---\n",
        "## 1. Best subset selection (4 points)"
      ],
      "id": "b065256e"
    },
    {
      "cell_type": "markdown",
      "metadata": {
        "id": "bfe412c5"
      },
      "source": [
        "In this question, we will first generate simulated data, and then use it to perform best subset selection.\n",
        "\n",
        "a) Use `rnorm()` to generate a dataset including a predictor $X$ of length $n = 100$ and a noise vector $\\epsilon$ of length $n = 100$. Generate data for a response variable $Y$ of length $n = 100$ according to the model\n",
        "\n",
        "$Y = \\beta_0 + \\beta_1X + \\beta_2X^2 + \\beta_3X^3 + \\epsilon$\n",
        "\n",
        "where $\\beta_0$, $\\beta_1$, $\\beta_2$, and $\\beta_3$ are constants of your choice.\n"
      ],
      "id": "bfe412c5"
    },
    {
      "cell_type": "code",
      "execution_count": 6,
      "metadata": {
        "id": "82a01047",
        "colab": {
          "base_uri": "https://localhost:8080/",
          "height": 303
        },
        "outputId": "72365064-b4a4-40ff-ac4c-b189061cc6af"
      },
      "outputs": [
        {
          "output_type": "display_data",
          "data": {
            "text/html": [
              "<table class=\"dataframe\">\n",
              "<caption>A data.frame: 6 × 2</caption>\n",
              "<thead>\n",
              "\t<tr><th></th><th scope=col>x</th><th scope=col>Y</th></tr>\n",
              "\t<tr><th></th><th scope=col>&lt;dbl&gt;</th><th scope=col>&lt;dbl&gt;</th></tr>\n",
              "</thead>\n",
              "<tbody>\n",
              "\t<tr><th scope=row>1</th><td> 0.5855288</td><td> 25.428309</td></tr>\n",
              "\t<tr><th scope=row>2</th><td> 0.7094660</td><td> 30.182946</td></tr>\n",
              "\t<tr><th scope=row>3</th><td>-0.1093033</td><td>  3.879046</td></tr>\n",
              "\t<tr><th scope=row>4</th><td>-0.4534972</td><td> -5.682603</td></tr>\n",
              "\t<tr><th scope=row>5</th><td> 0.6058875</td><td> 26.288233</td></tr>\n",
              "\t<tr><th scope=row>6</th><td>-1.8179560</td><td>-83.826626</td></tr>\n",
              "</tbody>\n",
              "</table>\n"
            ],
            "text/markdown": "\nA data.frame: 6 × 2\n\n| <!--/--> | x &lt;dbl&gt; | Y &lt;dbl&gt; |\n|---|---|---|\n| 1 |  0.5855288 |  25.428309 |\n| 2 |  0.7094660 |  30.182946 |\n| 3 | -0.1093033 |   3.879046 |\n| 4 | -0.4534972 |  -5.682603 |\n| 5 |  0.6058875 |  26.288233 |\n| 6 | -1.8179560 | -83.826626 |\n\n",
            "text/latex": "A data.frame: 6 × 2\n\\begin{tabular}{r|ll}\n  & x & Y\\\\\n  & <dbl> & <dbl>\\\\\n\\hline\n\t1 &  0.5855288 &  25.428309\\\\\n\t2 &  0.7094660 &  30.182946\\\\\n\t3 & -0.1093033 &   3.879046\\\\\n\t4 & -0.4534972 &  -5.682603\\\\\n\t5 &  0.6058875 &  26.288233\\\\\n\t6 & -1.8179560 & -83.826626\\\\\n\\end{tabular}\n",
            "text/plain": [
              "  x          Y         \n",
              "1  0.5855288  25.428309\n",
              "2  0.7094660  30.182946\n",
              "3 -0.1093033   3.879046\n",
              "4 -0.4534972  -5.682603\n",
              "5  0.6058875  26.288233\n",
              "6 -1.8179560 -83.826626"
            ]
          },
          "metadata": {}
        },
        {
          "output_type": "display_data",
          "data": {
            "text/html": [
              "<style>\n",
              ".list-inline {list-style: none; margin:0; padding: 0}\n",
              ".list-inline>li {display: inline-block}\n",
              ".list-inline>li:not(:last-child)::after {content: \"\\00b7\"; padding: 0 .5ex}\n",
              "</style>\n",
              "<ol class=list-inline><li>100</li><li>2</li></ol>\n"
            ],
            "text/markdown": "1. 100\n2. 2\n\n\n",
            "text/latex": "\\begin{enumerate*}\n\\item 100\n\\item 2\n\\end{enumerate*}\n",
            "text/plain": [
              "[1] 100   2"
            ]
          },
          "metadata": {}
        }
      ],
      "source": [
        "set.seed(12345)\n",
        "# sample_size <- 100 \n",
        "# beta_0 <- 6\n",
        "# beta_1 <- 24\n",
        "# beta_2 <- 8\n",
        "# beta_3 <- 12\n",
        "\n",
        "set.seed(12345)\n",
        "simulate_data <- function(sample_size, beta_0, beta_1, beta_2, beta_3) {\n",
        "  x = rnorm(n = 100)\n",
        "  error = rnorm(n = 100)\n",
        "  Y <- beta_0 + beta_1*x + beta_2*(x^2) + beta_3*(x^3) + e\n",
        "  return(data.frame(x,Y))\n",
        "}\n",
        "df_subset <- simulate_data(100, 6, 24, 8, 12)\n",
        "head(df_subset)\n",
        "dim(df_subset)"
      ],
      "id": "82a01047"
    },
    {
      "cell_type": "markdown",
      "metadata": {
        "id": "19065c60"
      },
      "source": [
        "b) Use `regsubsets()` to perform best subset selection to determine the best model that contains the predictor variables $X$, $X^2$, . . . , $X^{10}$. Print the model summary."
      ],
      "id": "19065c60"
    },
    {
      "cell_type": "code",
      "execution_count": 4,
      "metadata": {
        "id": "2d0ea51f",
        "colab": {
          "base_uri": "https://localhost:8080/"
        },
        "outputId": "e7e16b31-9508-44cb-8c73-b498d119fe66"
      },
      "outputs": [
        {
          "output_type": "stream",
          "name": "stderr",
          "text": [
            "Installing package into ‘/usr/local/lib/R/site-library’\n",
            "(as ‘lib’ is unspecified)\n",
            "\n"
          ]
        }
      ],
      "source": [
        "install.packages(\"leaps\")\n",
        "library(leaps)\n"
      ],
      "id": "2d0ea51f"
    },
    {
      "cell_type": "code",
      "source": [
        "# For loop for simulating data\n",
        "set.seed(12345)\n",
        "for (i in 2:10) {\n",
        "  df_subset[paste0(\"x^\",i)] <- df_subset$x^i\n",
        "}\n",
        "\n",
        "head(df_subset)"
      ],
      "metadata": {
        "colab": {
          "base_uri": "https://localhost:8080/",
          "height": 306
        },
        "id": "1iB_62JQsaHc",
        "outputId": "ad3c9c91-813c-4eae-8b21-4fc8d0d8f102"
      },
      "id": "1iB_62JQsaHc",
      "execution_count": 7,
      "outputs": [
        {
          "output_type": "display_data",
          "data": {
            "text/html": [
              "<table class=\"dataframe\">\n",
              "<caption>A data.frame: 6 × 11</caption>\n",
              "<thead>\n",
              "\t<tr><th></th><th scope=col>x</th><th scope=col>Y</th><th scope=col>x^2</th><th scope=col>x^3</th><th scope=col>x^4</th><th scope=col>x^5</th><th scope=col>x^6</th><th scope=col>x^7</th><th scope=col>x^8</th><th scope=col>x^9</th><th scope=col>x^10</th></tr>\n",
              "\t<tr><th></th><th scope=col>&lt;dbl&gt;</th><th scope=col>&lt;dbl&gt;</th><th scope=col>&lt;dbl&gt;</th><th scope=col>&lt;dbl&gt;</th><th scope=col>&lt;dbl&gt;</th><th scope=col>&lt;dbl&gt;</th><th scope=col>&lt;dbl&gt;</th><th scope=col>&lt;dbl&gt;</th><th scope=col>&lt;dbl&gt;</th><th scope=col>&lt;dbl&gt;</th><th scope=col>&lt;dbl&gt;</th></tr>\n",
              "</thead>\n",
              "<tbody>\n",
              "\t<tr><th scope=row>1</th><td> 0.5855288</td><td> 25.428309</td><td>0.34284400</td><td> 0.20074504</td><td>1.175420e-01</td><td> 6.882423e-02</td><td>4.029857e-02</td><td> 2.359597e-02</td><td>1.381612e-02</td><td> 8.089738e-03</td><td>4.736775e-03</td></tr>\n",
              "\t<tr><th scope=row>2</th><td> 0.7094660</td><td> 30.182946</td><td>0.50334203</td><td> 0.35710407</td><td>2.533532e-01</td><td> 1.797455e-01</td><td>1.275233e-01</td><td> 9.047346e-02</td><td>6.418784e-02</td><td> 4.553909e-02</td><td>3.230844e-02</td></tr>\n",
              "\t<tr><th scope=row>3</th><td>-0.1093033</td><td>  3.879046</td><td>0.01194721</td><td>-0.00130587</td><td>1.427359e-04</td><td>-1.560151e-05</td><td>1.705297e-06</td><td>-1.863946e-07</td><td>2.037355e-08</td><td>-2.226896e-09</td><td>2.434071e-10</td></tr>\n",
              "\t<tr><th scope=row>4</th><td>-0.4534972</td><td> -5.682603</td><td>0.20565969</td><td>-0.09326609</td><td>4.229591e-02</td><td>-1.918107e-02</td><td>8.698563e-03</td><td>-3.944774e-03</td><td>1.788944e-03</td><td>-8.112809e-04</td><td>3.679136e-04</td></tr>\n",
              "\t<tr><th scope=row>5</th><td> 0.6058875</td><td> 26.288233</td><td>0.36709961</td><td> 0.22242105</td><td>1.347621e-01</td><td> 8.165068e-02</td><td>4.947112e-02</td><td> 2.997393e-02</td><td>1.816083e-02</td><td> 1.100342e-02</td><td>6.666834e-03</td></tr>\n",
              "\t<tr><th scope=row>6</th><td>-1.8179560</td><td>-83.826626</td><td>3.30496390</td><td>-6.00827885</td><td>1.092279e+01</td><td>-1.985714e+01</td><td>3.609941e+01</td><td>-6.562715e+01</td><td>1.193073e+02</td><td>-2.168953e+02</td><td>3.943062e+02</td></tr>\n",
              "</tbody>\n",
              "</table>\n"
            ],
            "text/markdown": "\nA data.frame: 6 × 11\n\n| <!--/--> | x &lt;dbl&gt; | Y &lt;dbl&gt; | x^2 &lt;dbl&gt; | x^3 &lt;dbl&gt; | x^4 &lt;dbl&gt; | x^5 &lt;dbl&gt; | x^6 &lt;dbl&gt; | x^7 &lt;dbl&gt; | x^8 &lt;dbl&gt; | x^9 &lt;dbl&gt; | x^10 &lt;dbl&gt; |\n|---|---|---|---|---|---|---|---|---|---|---|---|\n| 1 |  0.5855288 |  25.428309 | 0.34284400 |  0.20074504 | 1.175420e-01 |  6.882423e-02 | 4.029857e-02 |  2.359597e-02 | 1.381612e-02 |  8.089738e-03 | 4.736775e-03 |\n| 2 |  0.7094660 |  30.182946 | 0.50334203 |  0.35710407 | 2.533532e-01 |  1.797455e-01 | 1.275233e-01 |  9.047346e-02 | 6.418784e-02 |  4.553909e-02 | 3.230844e-02 |\n| 3 | -0.1093033 |   3.879046 | 0.01194721 | -0.00130587 | 1.427359e-04 | -1.560151e-05 | 1.705297e-06 | -1.863946e-07 | 2.037355e-08 | -2.226896e-09 | 2.434071e-10 |\n| 4 | -0.4534972 |  -5.682603 | 0.20565969 | -0.09326609 | 4.229591e-02 | -1.918107e-02 | 8.698563e-03 | -3.944774e-03 | 1.788944e-03 | -8.112809e-04 | 3.679136e-04 |\n| 5 |  0.6058875 |  26.288233 | 0.36709961 |  0.22242105 | 1.347621e-01 |  8.165068e-02 | 4.947112e-02 |  2.997393e-02 | 1.816083e-02 |  1.100342e-02 | 6.666834e-03 |\n| 6 | -1.8179560 | -83.826626 | 3.30496390 | -6.00827885 | 1.092279e+01 | -1.985714e+01 | 3.609941e+01 | -6.562715e+01 | 1.193073e+02 | -2.168953e+02 | 3.943062e+02 |\n\n",
            "text/latex": "A data.frame: 6 × 11\n\\begin{tabular}{r|lllllllllll}\n  & x & Y & x\\textasciicircum{}2 & x\\textasciicircum{}3 & x\\textasciicircum{}4 & x\\textasciicircum{}5 & x\\textasciicircum{}6 & x\\textasciicircum{}7 & x\\textasciicircum{}8 & x\\textasciicircum{}9 & x\\textasciicircum{}10\\\\\n  & <dbl> & <dbl> & <dbl> & <dbl> & <dbl> & <dbl> & <dbl> & <dbl> & <dbl> & <dbl> & <dbl>\\\\\n\\hline\n\t1 &  0.5855288 &  25.428309 & 0.34284400 &  0.20074504 & 1.175420e-01 &  6.882423e-02 & 4.029857e-02 &  2.359597e-02 & 1.381612e-02 &  8.089738e-03 & 4.736775e-03\\\\\n\t2 &  0.7094660 &  30.182946 & 0.50334203 &  0.35710407 & 2.533532e-01 &  1.797455e-01 & 1.275233e-01 &  9.047346e-02 & 6.418784e-02 &  4.553909e-02 & 3.230844e-02\\\\\n\t3 & -0.1093033 &   3.879046 & 0.01194721 & -0.00130587 & 1.427359e-04 & -1.560151e-05 & 1.705297e-06 & -1.863946e-07 & 2.037355e-08 & -2.226896e-09 & 2.434071e-10\\\\\n\t4 & -0.4534972 &  -5.682603 & 0.20565969 & -0.09326609 & 4.229591e-02 & -1.918107e-02 & 8.698563e-03 & -3.944774e-03 & 1.788944e-03 & -8.112809e-04 & 3.679136e-04\\\\\n\t5 &  0.6058875 &  26.288233 & 0.36709961 &  0.22242105 & 1.347621e-01 &  8.165068e-02 & 4.947112e-02 &  2.997393e-02 & 1.816083e-02 &  1.100342e-02 & 6.666834e-03\\\\\n\t6 & -1.8179560 & -83.826626 & 3.30496390 & -6.00827885 & 1.092279e+01 & -1.985714e+01 & 3.609941e+01 & -6.562715e+01 & 1.193073e+02 & -2.168953e+02 & 3.943062e+02\\\\\n\\end{tabular}\n",
            "text/plain": [
              "  x          Y          x^2        x^3         x^4          x^5          \n",
              "1  0.5855288  25.428309 0.34284400  0.20074504 1.175420e-01  6.882423e-02\n",
              "2  0.7094660  30.182946 0.50334203  0.35710407 2.533532e-01  1.797455e-01\n",
              "3 -0.1093033   3.879046 0.01194721 -0.00130587 1.427359e-04 -1.560151e-05\n",
              "4 -0.4534972  -5.682603 0.20565969 -0.09326609 4.229591e-02 -1.918107e-02\n",
              "5  0.6058875  26.288233 0.36709961  0.22242105 1.347621e-01  8.165068e-02\n",
              "6 -1.8179560 -83.826626 3.30496390 -6.00827885 1.092279e+01 -1.985714e+01\n",
              "  x^6          x^7           x^8          x^9           x^10        \n",
              "1 4.029857e-02  2.359597e-02 1.381612e-02  8.089738e-03 4.736775e-03\n",
              "2 1.275233e-01  9.047346e-02 6.418784e-02  4.553909e-02 3.230844e-02\n",
              "3 1.705297e-06 -1.863946e-07 2.037355e-08 -2.226896e-09 2.434071e-10\n",
              "4 8.698563e-03 -3.944774e-03 1.788944e-03 -8.112809e-04 3.679136e-04\n",
              "5 4.947112e-02  2.997393e-02 1.816083e-02  1.100342e-02 6.666834e-03\n",
              "6 3.609941e+01 -6.562715e+01 1.193073e+02 -2.168953e+02 3.943062e+02"
            ]
          },
          "metadata": {}
        }
      ]
    },
    {
      "cell_type": "code",
      "source": [
        "# Model\n",
        "regfit_model <- regsubsets(Y ~ ., data = df_subset, nvmax=10)\n",
        "reg_summary <- summary(regfit_model)\n",
        "print(reg_summary)"
      ],
      "metadata": {
        "colab": {
          "base_uri": "https://localhost:8080/"
        },
        "id": "WoaNFlk1azlD",
        "outputId": "3996a468-a442-4ec9-b491-213745be593a"
      },
      "id": "WoaNFlk1azlD",
      "execution_count": 8,
      "outputs": [
        {
          "output_type": "stream",
          "name": "stdout",
          "text": [
            "Subset selection object\n",
            "Call: regsubsets.formula(Y ~ ., data = df_subset, nvmax = 10)\n",
            "10 Variables  (and intercept)\n",
            "       Forced in Forced out\n",
            "x          FALSE      FALSE\n",
            "`x^2`      FALSE      FALSE\n",
            "`x^3`      FALSE      FALSE\n",
            "`x^4`      FALSE      FALSE\n",
            "`x^5`      FALSE      FALSE\n",
            "`x^6`      FALSE      FALSE\n",
            "`x^7`      FALSE      FALSE\n",
            "`x^8`      FALSE      FALSE\n",
            "`x^9`      FALSE      FALSE\n",
            "`x^10`     FALSE      FALSE\n",
            "1 subsets of each size up to 10\n",
            "Selection Algorithm: exhaustive\n",
            "          x   `x^2` `x^3` `x^4` `x^5` `x^6` `x^7` `x^8` `x^9` `x^10`\n",
            "1  ( 1 )  \" \" \" \"   \"*\"   \" \"   \" \"   \" \"   \" \"   \" \"   \" \"   \" \"   \n",
            "2  ( 1 )  \"*\" \" \"   \"*\"   \" \"   \" \"   \" \"   \" \"   \" \"   \" \"   \" \"   \n",
            "3  ( 1 )  \"*\" \"*\"   \"*\"   \" \"   \" \"   \" \"   \" \"   \" \"   \" \"   \" \"   \n",
            "4  ( 1 )  \"*\" \"*\"   \"*\"   \" \"   \"*\"   \" \"   \" \"   \" \"   \" \"   \" \"   \n",
            "5  ( 1 )  \"*\" \"*\"   \"*\"   \" \"   \"*\"   \" \"   \"*\"   \" \"   \" \"   \" \"   \n",
            "6  ( 1 )  \"*\" \"*\"   \"*\"   \" \"   \"*\"   \" \"   \"*\"   \" \"   \"*\"   \" \"   \n",
            "7  ( 1 )  \"*\" \"*\"   \"*\"   \"*\"   \"*\"   \"*\"   \"*\"   \" \"   \" \"   \" \"   \n",
            "8  ( 1 )  \"*\" \"*\"   \"*\"   \"*\"   \"*\"   \"*\"   \"*\"   \"*\"   \" \"   \" \"   \n",
            "9  ( 1 )  \"*\" \"*\"   \"*\"   \"*\"   \"*\"   \"*\"   \"*\"   \" \"   \"*\"   \"*\"   \n",
            "10  ( 1 ) \"*\" \"*\"   \"*\"   \"*\"   \"*\"   \"*\"   \"*\"   \"*\"   \"*\"   \"*\"   \n"
          ]
        }
      ]
    },
    {
      "cell_type": "markdown",
      "metadata": {
        "id": "3528231b"
      },
      "source": [
        "c) Plot the Mallows' Cp, Bayesian Information Criteria (BIC) and the adjusted coefficient of determination, $R^2$, for each model tested. Which is the best model? Report the coefficients of the best model. "
      ],
      "id": "3528231b"
    },
    {
      "cell_type": "code",
      "source": [
        "library(ggplot2)\n",
        "numvar = 1:length(reg_summary$rss)# Make a vector that lists the number of variables in sequence \n",
        "allfalse = rep(FALSE,length(reg_summary$rss))\n",
        "\n",
        "# Check\n",
        "print(numvar)\n",
        "print(allfalse)"
      ],
      "metadata": {
        "colab": {
          "base_uri": "https://localhost:8080/"
        },
        "id": "MSxyUnrutLP_",
        "outputId": "9813f000-c89e-431d-b201-bea9adfe6ac7"
      },
      "id": "MSxyUnrutLP_",
      "execution_count": 10,
      "outputs": [
        {
          "output_type": "stream",
          "name": "stdout",
          "text": [
            " [1]  1  2  3  4  5  6  7  8  9 10\n",
            " [1] FALSE FALSE FALSE FALSE FALSE FALSE FALSE FALSE FALSE FALSE\n"
          ]
        }
      ]
    },
    {
      "cell_type": "code",
      "source": [],
      "metadata": {
        "id": "fASBzfmtwpEl"
      },
      "id": "fASBzfmtwpEl",
      "execution_count": null,
      "outputs": []
    },
    {
      "cell_type": "code",
      "execution_count": 18,
      "metadata": {
        "id": "6a817913",
        "colab": {
          "base_uri": "https://localhost:8080/",
          "height": 1000
        },
        "outputId": "8f15399d-faed-47f8-ab85-336270c531df"
      },
      "outputs": [
        {
          "output_type": "display_data",
          "data": {
            "text/plain": [
              "plot without title"
            ],
            "image/png": "[encoded data removed]"
          },
          "metadata": {
            "image/png": {
              "width": 420,
              "height": 420
            }
          }
        },
        {
          "output_type": "display_data",
          "data": {
            "text/plain": [
              "plot without title"
            ],
            "image/png": "[encoded data removed]"
          },
          "metadata": {
            "image/png": {
              "width": 420,
              "height": 420
            }
          }
        },
        {
          "output_type": "display_data",
          "data": {
            "text/html": [
              "4"
            ],
            "text/markdown": "4",
            "text/latex": "4",
            "text/plain": [
              "[1] 4"
            ]
          },
          "metadata": {}
        },
        {
          "output_type": "display_data",
          "data": {
            "text/html": [
              "5"
            ],
            "text/markdown": "5",
            "text/latex": "5",
            "text/plain": [
              "[1] 5"
            ]
          },
          "metadata": {}
        },
        {
          "output_type": "display_data",
          "data": {
            "text/html": [
              "4"
            ],
            "text/markdown": "4",
            "text/latex": "4",
            "text/plain": [
              "[1] 4"
            ]
          },
          "metadata": {}
        },
        {
          "output_type": "display_data",
          "data": {
            "text/html": [
              "<style>\n",
              ".dl-inline {width: auto; margin:0; padding: 0}\n",
              ".dl-inline>dt, .dl-inline>dd {float: none; width: auto; display: inline-block}\n",
              ".dl-inline>dt::after {content: \":\\0020\"; padding-right: .5ex}\n",
              ".dl-inline>dt:not(:first-of-type) {padding-left: .5ex}\n",
              "</style><dl class=dl-inline><dt>(Intercept)</dt><dd>6.06465517676769</dd><dt>x</dt><dd>24.4696683072608</dd><dt>`x^2`</dt><dd>7.96522221498958</dd><dt>`x^3`</dt><dd>11.5808092158976</dd><dt>`x^5`</dt><dd>0.0733280396371121</dd></dl>\n"
            ],
            "text/markdown": "(Intercept)\n:   6.06465517676769x\n:   24.4696683072608`x^2`\n:   7.96522221498958`x^3`\n:   11.5808092158976`x^5`\n:   0.0733280396371121\n\n",
            "text/latex": "\\begin{description*}\n\\item[(Intercept)] 6.06465517676769\n\\item[x] 24.4696683072608\n\\item[`x\\textbackslash{}textasciicircum\\{\\}2`] 7.96522221498958\n\\item[`x\\textbackslash{}textasciicircum\\{\\}3`] 11.5808092158976\n\\item[`x\\textbackslash{}textasciicircum\\{\\}5`] 0.0733280396371121\n\\end{description*}\n",
            "text/plain": [
              "(Intercept)           x       `x^2`       `x^3`       `x^5` \n",
              " 6.06465518 24.46966831  7.96522221 11.58080922  0.07332804 "
            ]
          },
          "metadata": {}
        },
        {
          "output_type": "display_data",
          "data": {
            "text/plain": [
              "plot without title"
            ],
            "image/png": "[encoded data removed]"
          },
          "metadata": {
            "image/png": {
              "width": 420,
              "height": 420
            }
          }
        }
      ],
      "source": [
        "# BIC\n",
        "bic.df <- data.frame(numvar = numvar,bic <- reg_summary$bic, minbic <- allfalse)\n",
        "bic.df$minbic[which.min(reg_summary$bic)] <- TRUE\n",
        "ggplot(bic.df,aes(x=numvar,y=bic,shape=minbic,col=minbic)) + \n",
        "    geom_point(size=3) + theme_light() + \n",
        "    labs(x = \"Number of Variables\", y = \"BIC\", color=\"Minimum BIC\", shape=\"Minimum BIC\")\n",
        "\n",
        "#adjr2\n",
        "adjr2.df <- data.frame(numvar = numvar, adjr2 <- reg_summary$adjr2, maxadjr2 <- allfalse)\n",
        "adjr2.df$maxadjr2[which.max(reg_summary$adjr2)] <- TRUE\n",
        "ggplot(adjr2.df,aes(x=numvar,y=adjr2,shape=maxadjr2,col=maxadjr2)) + \n",
        "    geom_point(size=3) + theme_light() + \n",
        "    labs(x = \"Number of Variables\", y = 'Adj'~R^2, color='Maximum Adj'~R^2, shape='Maximum Adj'~R^2)\n",
        "\n",
        "#mallow's cp\n",
        "cp.df <- data.frame(numvar = numvar, cp <- reg_summary$cp, mincp <- allfalse)\n",
        "cp.df$mincp[which.min(reg_summary$cp)] <- TRUE\n",
        "ggplot(cp.df,aes(x=numvar,y=cp,shape=mincp,col=mincp)) + \n",
        "    geom_point(size=3) + theme_light() + \n",
        "    labs(x = \"Number of Variables\", y = \"Mallow's CP\", color=\"Minimum CP\", shape=\"Minimum CP\")\n",
        "\n",
        "which.min(reg_summary$bic) # 4\n",
        "which.max(reg_summary$adjr2) # 5\n",
        "which.min(reg_summary$cp) # 4\n",
        "\n",
        "# Best Model coefficients\n",
        "coef(regfit_model, id=4)\n"
      ],
      "id": "6a817913"
    },
    {
      "cell_type": "markdown",
      "metadata": {
        "id": "e7f16d76"
      },
      "source": [
        "> *Based on the BIC, Mallow's CP, and adjusted R2, the fourth model seems to be the best overall fit (includes x, x^2, x^3, and x^5 terms). * \n",
        "> "
      ],
      "id": "e7f16d76"
    },
    {
      "cell_type": "markdown",
      "metadata": {
        "id": "19d388b0"
      },
      "source": [
        "---\n",
        "## 2. Forward and backwards stepwise selection (3 points)"
      ],
      "id": "19d388b0"
    },
    {
      "cell_type": "markdown",
      "metadata": {
        "id": "620dc14c"
      },
      "source": [
        "Using the same simulated data from question 1, use forward stepwise selection, and backwards stepwise selections to determine the best model. Again, for both model selection methods, plot the Mallows' Cp, Bayesian Information Criteria (BIC) and the adjusted coefficient of determination, $R^2$, for each model tested. Report the coefficients of the best model. "
      ],
      "id": "620dc14c"
    },
    {
      "cell_type": "markdown",
      "metadata": {
        "id": "d734954e"
      },
      "source": [
        "a) Forward stepwise selection:"
      ],
      "id": "d734954e"
    },
    {
      "cell_type": "code",
      "source": [
        "regfit_forward <- regsubsets(Y ~ ., data = df_subset, method='forward', nvmax=10)\n",
        "forward_summary <- summary(regfit_forward)\n",
        "print(forward_summary)\n",
        "\n",
        "# BIC\n",
        "bic.df <- data.frame(numvar = numvar,bic <- forward_summary$bic, minbic <- allfalse)\n",
        "bic.df$minbic[which.min(forward_summary$bic)] <- TRUE\n",
        "ggplot(bic.df,aes(x=as.factor(numvar),y=bic,shape=minbic,col=minbic)) + \n",
        "    geom_point(size=3) + theme_light() + \n",
        "    labs(x = \"Number of Variables\", y = \"BIC\", color=\"Minimum BIC\", shape=\"Minimum BIC\")\n",
        "\n",
        "#adjr2\n",
        "adjr2.df <- data.frame(numvar = numvar, adjr2 <- forward_summary$adjr2, maxadjr2 <- allfalse)\n",
        "adjr2.df$maxadjr2[which.max(forward_summary$adjr2)] <- TRUE\n",
        "ggplot(adjr2.df,aes(x=as.factor(numvar),y=adjr2,shape=maxadjr2,col=maxadjr2)) + \n",
        "    geom_point(size=3) + theme_light() + \n",
        "    labs(x = \"Number of Variables\", y = 'Adj'~R^2, color='Maximum Adj'~R^2, shape='Maximum Adj'~R^2)\n",
        "\n",
        "#mallow's cp\n",
        "cp.df <- data.frame(numvar = numvar, cp <- forward_summary$cp, mincp <- allfalse)\n",
        "cp.df$mincp[which.min(forward_summary$cp)] <- TRUE\n",
        "ggplot(cp.df,aes(x=as.factor(numvar),y=cp,shape=mincp,col=mincp)) + \n",
        "    geom_point(size=3) + theme_light() + \n",
        "    labs(x = \"Number of Variables\", y = \"Mallow's CP\", color=\"Minimum CP\", shape=\"Minimum CP\")\n",
        "\n",
        "forward_bic <- which.min(forward_summary$bic) # 4\n",
        "forward_r2 <- which.max(forward_summary$adjr2) # 5\n",
        "forward_cp <- which.min(forward_summary$cp) # 4"
      ],
      "metadata": {
        "colab": {
          "base_uri": "https://localhost:8080/",
          "height": 1000
        },
        "id": "7h6zyeZGy2S1",
        "outputId": "badda716-3a3b-46e2-c116-c5c1574d3b95"
      },
      "id": "7h6zyeZGy2S1",
      "execution_count": 24,
      "outputs": [
        {
          "output_type": "stream",
          "name": "stdout",
          "text": [
            "Subset selection object\n",
            "Call: regsubsets.formula(Y ~ ., data = df_subset, method = \"forward\", \n",
            "    nvmax = 10)\n",
            "10 Variables  (and intercept)\n",
            "       Forced in Forced out\n",
            "x          FALSE      FALSE\n",
            "`x^2`      FALSE      FALSE\n",
            "`x^3`      FALSE      FALSE\n",
            "`x^4`      FALSE      FALSE\n",
            "`x^5`      FALSE      FALSE\n",
            "`x^6`      FALSE      FALSE\n",
            "`x^7`      FALSE      FALSE\n",
            "`x^8`      FALSE      FALSE\n",
            "`x^9`      FALSE      FALSE\n",
            "`x^10`     FALSE      FALSE\n",
            "1 subsets of each size up to 10\n",
            "Selection Algorithm: forward\n",
            "          x   `x^2` `x^3` `x^4` `x^5` `x^6` `x^7` `x^8` `x^9` `x^10`\n",
            "1  ( 1 )  \" \" \" \"   \"*\"   \" \"   \" \"   \" \"   \" \"   \" \"   \" \"   \" \"   \n",
            "2  ( 1 )  \"*\" \" \"   \"*\"   \" \"   \" \"   \" \"   \" \"   \" \"   \" \"   \" \"   \n",
            "3  ( 1 )  \"*\" \"*\"   \"*\"   \" \"   \" \"   \" \"   \" \"   \" \"   \" \"   \" \"   \n",
            "4  ( 1 )  \"*\" \"*\"   \"*\"   \" \"   \"*\"   \" \"   \" \"   \" \"   \" \"   \" \"   \n",
            "5  ( 1 )  \"*\" \"*\"   \"*\"   \" \"   \"*\"   \" \"   \"*\"   \" \"   \" \"   \" \"   \n",
            "6  ( 1 )  \"*\" \"*\"   \"*\"   \" \"   \"*\"   \" \"   \"*\"   \" \"   \"*\"   \" \"   \n",
            "7  ( 1 )  \"*\" \"*\"   \"*\"   \" \"   \"*\"   \" \"   \"*\"   \" \"   \"*\"   \"*\"   \n",
            "8  ( 1 )  \"*\" \"*\"   \"*\"   \"*\"   \"*\"   \" \"   \"*\"   \" \"   \"*\"   \"*\"   \n",
            "9  ( 1 )  \"*\" \"*\"   \"*\"   \"*\"   \"*\"   \"*\"   \"*\"   \" \"   \"*\"   \"*\"   \n",
            "10  ( 1 ) \"*\" \"*\"   \"*\"   \"*\"   \"*\"   \"*\"   \"*\"   \"*\"   \"*\"   \"*\"   \n"
          ]
        },
        {
          "output_type": "display_data",
          "data": {
            "text/plain": [
              "plot without title"
            ],
            "image/png": "[encoded data removed]"
          },
          "metadata": {
            "image/png": {
              "width": 420,
              "height": 420
            }
          }
        },
        {
          "output_type": "display_data",
          "data": {
            "text/plain": [
              "plot without title"
            ],
            "image/png": "[encoded data removed]"
          },
          "metadata": {
            "image/png": {
              "width": 420,
              "height": 420
            }
          }
        },
        {
          "output_type": "display_data",
          "data": {
            "text/plain": [
              "plot without title"
            ],
            "image/png": "[encoded data removed]"
          },
          "metadata": {
            "image/png": {
              "width": 420,
              "height": 420
            }
          }
        }
      ]
    },
    {
      "cell_type": "code",
      "source": [
        "# Best Model coefficients\n",
        "coef(regfit_forward, forward_bic)\n",
        "coef(regfit_forward, forward_r2)\n",
        "coef(regfit_forward, forward_cp)"
      ],
      "metadata": {
        "id": "j0b72BvR0UNT"
      },
      "id": "j0b72BvR0UNT",
      "execution_count": null,
      "outputs": []
    },
    {
      "cell_type": "markdown",
      "metadata": {
        "id": "955e381d"
      },
      "source": [
        "b) Backwards stepwise selection:"
      ],
      "id": "955e381d"
    },
    {
      "cell_type": "code",
      "source": [
        "regfit_back <- regsubsets(Y ~ ., data = df_subset, method='backward', nvmax=10)\n",
        "backward_summary <- summary(regfit_back)\n",
        "print(backward_summary)\n",
        "\n",
        "# BIC\n",
        "bic.df <- data.frame(numvar = numvar,bic <- backward_summary$bic, minbic <- allfalse)\n",
        "bic.df$minbic[which.min(backward_summary$bic)] <- TRUE\n",
        "ggplot(bic.df,aes(x=as.factor(numvar),y=bic,shape=minbic,col=minbic)) + \n",
        "    geom_point(size=3) + theme_light() + \n",
        "    labs(x = \"Number of Variables\", y = \"BIC\", color=\"Minimum BIC\", shape=\"Minimum BIC\")\n",
        "\n",
        "#adjr2\n",
        "adjr2.df <- data.frame(numvar = numvar, adjr2 <- backward_summary$adjr2, maxadjr2 <- allfalse)\n",
        "adjr2.df$maxadjr2[which.max(backward_summary$adjr2)] <- TRUE\n",
        "ggplot(adjr2.df,aes(x=as.factor(numvar),y=adjr2,shape=maxadjr2,col=maxadjr2)) + \n",
        "    geom_point(size=3) + theme_light() + \n",
        "    labs(x = \"Number of Variables\", y = 'Adj'~R^2, color='Maximum Adj'~R^2, shape='Maximum Adj'~R^2)\n",
        "\n",
        "#mallow's cp\n",
        "cp.df <- data.frame(numvar = numvar, cp <- backward_summary$cp, mincp <- allfalse)\n",
        "cp.df$mincp[which.min(backward_summary$cp)] <- TRUE\n",
        "ggplot(cp.df,aes(x=as.factor(numvar),y=cp,shape=mincp,col=mincp)) + \n",
        "    geom_point(size=3) + theme_light() + \n",
        "    labs(x = \"Number of Variables\", y = \"Mallow's CP\", color=\"Minimum CP\", shape=\"Minimum CP\")\n",
        "\n",
        "back_bic <- which.min(backward_summary$bic) # 4\n",
        "back_r2 <- which.max(backward_summary$adjr2) # 5\n",
        "back_cp <- which.min(backward_summary$cp) # 4"
      ],
      "metadata": {
        "id": "BDTk9mG9zLjp"
      },
      "id": "BDTk9mG9zLjp",
      "execution_count": null,
      "outputs": []
    },
    {
      "cell_type": "code",
      "source": [
        "# Best Model coefficients\n",
        "coef(regfit_back, back_bic)\n",
        "coef(regfit_back, back_r2)\n",
        "coef(regfit_back, back_cp)"
      ],
      "metadata": {
        "colab": {
          "base_uri": "https://localhost:8080/",
          "height": 121
        },
        "id": "gVYQJEQu00N_",
        "outputId": "28f54069-51ef-404f-d61c-d4aafa8760e7"
      },
      "id": "gVYQJEQu00N_",
      "execution_count": 27,
      "outputs": [
        {
          "output_type": "display_data",
          "data": {
            "text/html": [
              "<style>\n",
              ".dl-inline {width: auto; margin:0; padding: 0}\n",
              ".dl-inline>dt, .dl-inline>dd {float: none; width: auto; display: inline-block}\n",
              ".dl-inline>dt::after {content: \":\\0020\"; padding-right: .5ex}\n",
              ".dl-inline>dt:not(:first-of-type) {padding-left: .5ex}\n",
              "</style><dl class=dl-inline><dt>(Intercept)</dt><dd>6.06465517676769</dd><dt>x</dt><dd>24.4696683072608</dd><dt>`x^2`</dt><dd>7.96522221498958</dd><dt>`x^3`</dt><dd>11.5808092158976</dd><dt>`x^5`</dt><dd>0.0733280396371146</dd></dl>\n"
            ],
            "text/markdown": "(Intercept)\n:   6.06465517676769x\n:   24.4696683072608`x^2`\n:   7.96522221498958`x^3`\n:   11.5808092158976`x^5`\n:   0.0733280396371146\n\n",
            "text/latex": "\\begin{description*}\n\\item[(Intercept)] 6.06465517676769\n\\item[x] 24.4696683072608\n\\item[`x\\textbackslash{}textasciicircum\\{\\}2`] 7.96522221498958\n\\item[`x\\textbackslash{}textasciicircum\\{\\}3`] 11.5808092158976\n\\item[`x\\textbackslash{}textasciicircum\\{\\}5`] 0.0733280396371146\n\\end{description*}\n",
            "text/plain": [
              "(Intercept)           x       `x^2`       `x^3`       `x^5` \n",
              " 6.06465518 24.46966831  7.96522221 11.58080922  0.07332804 "
            ]
          },
          "metadata": {}
        },
        {
          "output_type": "display_data",
          "data": {
            "text/html": [
              "<style>\n",
              ".dl-inline {width: auto; margin:0; padding: 0}\n",
              ".dl-inline>dt, .dl-inline>dd {float: none; width: auto; display: inline-block}\n",
              ".dl-inline>dt::after {content: \":\\0020\"; padding-right: .5ex}\n",
              ".dl-inline>dt:not(:first-of-type) {padding-left: .5ex}\n",
              "</style><dl class=dl-inline><dt>(Intercept)</dt><dd>6.0612349693375</dd><dt>x</dt><dd>24.7819794585641</dd><dt>`x^2`</dt><dd>7.95549218697673</dd><dt>`x^3`</dt><dd>10.9954670235104</dd><dt>`x^5`</dt><dd>0.306491542946269</dd><dt>`x^7`</dt><dd>-0.0247443267616567</dd></dl>\n"
            ],
            "text/markdown": "(Intercept)\n:   6.0612349693375x\n:   24.7819794585641`x^2`\n:   7.95549218697673`x^3`\n:   10.9954670235104`x^5`\n:   0.306491542946269`x^7`\n:   -0.0247443267616567\n\n",
            "text/latex": "\\begin{description*}\n\\item[(Intercept)] 6.0612349693375\n\\item[x] 24.7819794585641\n\\item[`x\\textbackslash{}textasciicircum\\{\\}2`] 7.95549218697673\n\\item[`x\\textbackslash{}textasciicircum\\{\\}3`] 10.9954670235104\n\\item[`x\\textbackslash{}textasciicircum\\{\\}5`] 0.306491542946269\n\\item[`x\\textbackslash{}textasciicircum\\{\\}7`] -0.0247443267616567\n\\end{description*}\n",
            "text/plain": [
              "(Intercept)           x       `x^2`       `x^3`       `x^5`       `x^7` \n",
              " 6.06123497 24.78197946  7.95549219 10.99546702  0.30649154 -0.02474433 "
            ]
          },
          "metadata": {}
        },
        {
          "output_type": "display_data",
          "data": {
            "text/html": [
              "<style>\n",
              ".dl-inline {width: auto; margin:0; padding: 0}\n",
              ".dl-inline>dt, .dl-inline>dd {float: none; width: auto; display: inline-block}\n",
              ".dl-inline>dt::after {content: \":\\0020\"; padding-right: .5ex}\n",
              ".dl-inline>dt:not(:first-of-type) {padding-left: .5ex}\n",
              "</style><dl class=dl-inline><dt>(Intercept)</dt><dd>6.06465517676769</dd><dt>x</dt><dd>24.4696683072608</dd><dt>`x^2`</dt><dd>7.96522221498958</dd><dt>`x^3`</dt><dd>11.5808092158976</dd><dt>`x^5`</dt><dd>0.0733280396371146</dd></dl>\n"
            ],
            "text/markdown": "(Intercept)\n:   6.06465517676769x\n:   24.4696683072608`x^2`\n:   7.96522221498958`x^3`\n:   11.5808092158976`x^5`\n:   0.0733280396371146\n\n",
            "text/latex": "\\begin{description*}\n\\item[(Intercept)] 6.06465517676769\n\\item[x] 24.4696683072608\n\\item[`x\\textbackslash{}textasciicircum\\{\\}2`] 7.96522221498958\n\\item[`x\\textbackslash{}textasciicircum\\{\\}3`] 11.5808092158976\n\\item[`x\\textbackslash{}textasciicircum\\{\\}5`] 0.0733280396371146\n\\end{description*}\n",
            "text/plain": [
              "(Intercept)           x       `x^2`       `x^3`       `x^5` \n",
              " 6.06465518 24.46966831  7.96522221 11.58080922  0.07332804 "
            ]
          },
          "metadata": {}
        }
      ]
    },
    {
      "cell_type": "markdown",
      "metadata": {
        "id": "25dbc027"
      },
      "source": [
        "c) Compare your results from parts a and b with those of question 1."
      ],
      "id": "25dbc027"
    },
    {
      "cell_type": "markdown",
      "metadata": {
        "id": "34ac850e"
      },
      "source": [
        "> *They're the same; the best overall model seems to be model 4.* \n",
        "> "
      ],
      "id": "34ac850e"
    },
    {
      "cell_type": "markdown",
      "metadata": {
        "id": "630f4909"
      },
      "source": [
        "---\n",
        "## 3. Training and test error (3 points)"
      ],
      "id": "630f4909"
    },
    {
      "cell_type": "markdown",
      "metadata": {
        "id": "cdea3f49"
      },
      "source": [
        "This question will explore the relationship between training and test error and the number of features included in a model. We will again use a simulated dataset. \n",
        "\n",
        "a) Simulate dataset with features $p = 20$ and observations $n = 1,000$. Generate data for a response variable $Y$ according to the model\n",
        "\n",
        "$Y = X\\beta + \\epsilon$ \n",
        "\n",
        "where $\\beta$ is random with some elements that are exactly zero.\n",
        "\n",
        "Split your simulated dataset into a training set containing $n=100$ observations and a test set containing $n=900$ observations."
      ],
      "id": "cdea3f49"
    },
    {
      "cell_type": "code",
      "execution_count": 49,
      "metadata": {
        "id": "3f113879",
        "colab": {
          "base_uri": "https://localhost:8080/",
          "height": 306
        },
        "outputId": "cda1ace8-bac2-4673-860e-9e02d09389ad"
      },
      "outputs": [
        {
          "output_type": "display_data",
          "data": {
            "text/html": [
              "<table class=\"dataframe\">\n",
              "<caption>A data.frame: 6 × 21</caption>\n",
              "<thead>\n",
              "\t<tr><th></th><th scope=col>x1</th><th scope=col>x2</th><th scope=col>x3</th><th scope=col>x4</th><th scope=col>x5</th><th scope=col>x6</th><th scope=col>x7</th><th scope=col>x8</th><th scope=col>x9</th><th scope=col>x10</th><th scope=col>⋯</th><th scope=col>x12</th><th scope=col>x13</th><th scope=col>x14</th><th scope=col>x15</th><th scope=col>x16</th><th scope=col>x17</th><th scope=col>x18</th><th scope=col>x19</th><th scope=col>x20</th><th scope=col>Y2</th></tr>\n",
              "\t<tr><th></th><th scope=col>&lt;dbl&gt;</th><th scope=col>&lt;dbl&gt;</th><th scope=col>&lt;dbl&gt;</th><th scope=col>&lt;dbl&gt;</th><th scope=col>&lt;dbl&gt;</th><th scope=col>&lt;dbl&gt;</th><th scope=col>&lt;dbl&gt;</th><th scope=col>&lt;dbl&gt;</th><th scope=col>&lt;dbl&gt;</th><th scope=col>&lt;dbl&gt;</th><th scope=col>⋯</th><th scope=col>&lt;dbl&gt;</th><th scope=col>&lt;dbl&gt;</th><th scope=col>&lt;dbl&gt;</th><th scope=col>&lt;dbl&gt;</th><th scope=col>&lt;dbl&gt;</th><th scope=col>&lt;dbl&gt;</th><th scope=col>&lt;dbl&gt;</th><th scope=col>&lt;dbl&gt;</th><th scope=col>&lt;dbl&gt;</th><th scope=col>&lt;dbl&gt;</th></tr>\n",
              "</thead>\n",
              "<tbody>\n",
              "\t<tr><th scope=row>1</th><td>-0.1083223</td><td>-0.5378214</td><td>-1.9110071</td><td>-0.6757286</td><td>-0.14921264</td><td> 1.50785679</td><td>-0.3325382</td><td>-0.14536575</td><td> 0.2946815</td><td> 0.63091298</td><td>⋯</td><td> 0.0003800058</td><td> 1.8734317</td><td> 0.9301000</td><td>-0.7877513</td><td> 0.5288239</td><td>-0.6157966</td><td>-0.81792875</td><td>-0.5327131</td><td>-0.46959444</td><td>  3.108448</td></tr>\n",
              "\t<tr><th scope=row>2</th><td> 0.2507904</td><td>-1.1969442</td><td> 0.5907921</td><td> 0.6005075</td><td>-0.09221769</td><td> 0.27500363</td><td>-1.6784429</td><td> 0.05290521</td><td> 0.2421294</td><td>-1.27451448</td><td>⋯</td><td> 1.6267111312</td><td>-0.4522252</td><td> 0.3602563</td><td>-0.7284002</td><td> 0.1177088</td><td>-0.1516827</td><td>-0.21764134</td><td> 1.2985021</td><td>-0.07054145</td><td>  8.963955</td></tr>\n",
              "\t<tr><th scope=row>3</th><td>-1.3161934</td><td>-1.1004158</td><td>-0.3240349</td><td> 1.0565807</td><td>-0.57449662</td><td> 0.27673481</td><td>-1.1780727</td><td>-0.60386788</td><td> 2.0474585</td><td> 0.09342082</td><td>⋯</td><td>-1.4014454266</td><td>-1.5600299</td><td>-0.7253190</td><td>-0.8483404</td><td>-0.4441851</td><td> 1.0180489</td><td>-0.76544341</td><td>-3.0653569</td><td>-0.95598193</td><td>-64.415354</td></tr>\n",
              "\t<tr><th scope=row>4</th><td>-0.4300754</td><td> 0.5912199</td><td>-1.7823501</td><td>-0.5893328</td><td>-1.96122664</td><td>-0.60152742</td><td>-0.5491001</td><td>-0.77731272</td><td> 0.1558322</td><td>-0.09651187</td><td>⋯</td><td> 0.4721891809</td><td>-0.8110158</td><td> 1.2054505</td><td> 0.3878268</td><td> 0.1392851</td><td> 0.5213172</td><td> 0.60397087</td><td>-0.3581790</td><td> 0.30275414</td><td>-23.231570</td></tr>\n",
              "\t<tr><th scope=row>5</th><td>-1.7041097</td><td> 0.7337126</td><td> 0.5556403</td><td>-0.5202545</td><td> 0.97132538</td><td>-0.08750157</td><td> 1.3861404</td><td>-0.82007171</td><td>-0.6714180</td><td> 0.56272898</td><td>⋯</td><td>-0.4394351241</td><td>-0.4246259</td><td> 0.3427271</td><td>-0.3440595</td><td>-0.3373668</td><td> 0.4835820</td><td> 1.65576385</td><td>-1.7200239</td><td> 2.44953710</td><td>  9.091394</td></tr>\n",
              "\t<tr><th scope=row>6</th><td>-0.8421374</td><td> 0.2172776</td><td>-0.6484185</td><td> 0.7050629</td><td>-0.71319912</td><td>-0.81338113</td><td> 1.4445739</td><td> 0.30572590</td><td>-0.6315070</td><td>-0.91910401</td><td>⋯</td><td> 1.2367974446</td><td>-0.7241897</td><td>-0.0585925</td><td> 1.0907596</td><td>-1.3516668</td><td>-1.2092952</td><td>-0.09150935</td><td> 0.1976621</td><td> 0.91661609</td><td>-18.325699</td></tr>\n",
              "</tbody>\n",
              "</table>\n"
            ],
            "text/markdown": "\nA data.frame: 6 × 21\n\n| <!--/--> | x1 &lt;dbl&gt; | x2 &lt;dbl&gt; | x3 &lt;dbl&gt; | x4 &lt;dbl&gt; | x5 &lt;dbl&gt; | x6 &lt;dbl&gt; | x7 &lt;dbl&gt; | x8 &lt;dbl&gt; | x9 &lt;dbl&gt; | x10 &lt;dbl&gt; | ⋯ ⋯ | x12 &lt;dbl&gt; | x13 &lt;dbl&gt; | x14 &lt;dbl&gt; | x15 &lt;dbl&gt; | x16 &lt;dbl&gt; | x17 &lt;dbl&gt; | x18 &lt;dbl&gt; | x19 &lt;dbl&gt; | x20 &lt;dbl&gt; | Y2 &lt;dbl&gt; |\n|---|---|---|---|---|---|---|---|---|---|---|---|---|---|---|---|---|---|---|---|---|---|\n| 1 | -0.1083223 | -0.5378214 | -1.9110071 | -0.6757286 | -0.14921264 |  1.50785679 | -0.3325382 | -0.14536575 |  0.2946815 |  0.63091298 | ⋯ |  0.0003800058 |  1.8734317 |  0.9301000 | -0.7877513 |  0.5288239 | -0.6157966 | -0.81792875 | -0.5327131 | -0.46959444 |   3.108448 |\n| 2 |  0.2507904 | -1.1969442 |  0.5907921 |  0.6005075 | -0.09221769 |  0.27500363 | -1.6784429 |  0.05290521 |  0.2421294 | -1.27451448 | ⋯ |  1.6267111312 | -0.4522252 |  0.3602563 | -0.7284002 |  0.1177088 | -0.1516827 | -0.21764134 |  1.2985021 | -0.07054145 |   8.963955 |\n| 3 | -1.3161934 | -1.1004158 | -0.3240349 |  1.0565807 | -0.57449662 |  0.27673481 | -1.1780727 | -0.60386788 |  2.0474585 |  0.09342082 | ⋯ | -1.4014454266 | -1.5600299 | -0.7253190 | -0.8483404 | -0.4441851 |  1.0180489 | -0.76544341 | -3.0653569 | -0.95598193 | -64.415354 |\n| 4 | -0.4300754 |  0.5912199 | -1.7823501 | -0.5893328 | -1.96122664 | -0.60152742 | -0.5491001 | -0.77731272 |  0.1558322 | -0.09651187 | ⋯ |  0.4721891809 | -0.8110158 |  1.2054505 |  0.3878268 |  0.1392851 |  0.5213172 |  0.60397087 | -0.3581790 |  0.30275414 | -23.231570 |\n| 5 | -1.7041097 |  0.7337126 |  0.5556403 | -0.5202545 |  0.97132538 | -0.08750157 |  1.3861404 | -0.82007171 | -0.6714180 |  0.56272898 | ⋯ | -0.4394351241 | -0.4246259 |  0.3427271 | -0.3440595 | -0.3373668 |  0.4835820 |  1.65576385 | -1.7200239 |  2.44953710 |   9.091394 |\n| 6 | -0.8421374 |  0.2172776 | -0.6484185 |  0.7050629 | -0.71319912 | -0.81338113 |  1.4445739 |  0.30572590 | -0.6315070 | -0.91910401 | ⋯ |  1.2367974446 | -0.7241897 | -0.0585925 |  1.0907596 | -1.3516668 | -1.2092952 | -0.09150935 |  0.1976621 |  0.91661609 | -18.325699 |\n\n",
            "text/latex": "A data.frame: 6 × 21\n\\begin{tabular}{r|lllllllllllllllllllll}\n  & x1 & x2 & x3 & x4 & x5 & x6 & x7 & x8 & x9 & x10 & ⋯ & x12 & x13 & x14 & x15 & x16 & x17 & x18 & x19 & x20 & Y2\\\\\n  & <dbl> & <dbl> & <dbl> & <dbl> & <dbl> & <dbl> & <dbl> & <dbl> & <dbl> & <dbl> & ⋯ & <dbl> & <dbl> & <dbl> & <dbl> & <dbl> & <dbl> & <dbl> & <dbl> & <dbl> & <dbl>\\\\\n\\hline\n\t1 & -0.1083223 & -0.5378214 & -1.9110071 & -0.6757286 & -0.14921264 &  1.50785679 & -0.3325382 & -0.14536575 &  0.2946815 &  0.63091298 & ⋯ &  0.0003800058 &  1.8734317 &  0.9301000 & -0.7877513 &  0.5288239 & -0.6157966 & -0.81792875 & -0.5327131 & -0.46959444 &   3.108448\\\\\n\t2 &  0.2507904 & -1.1969442 &  0.5907921 &  0.6005075 & -0.09221769 &  0.27500363 & -1.6784429 &  0.05290521 &  0.2421294 & -1.27451448 & ⋯ &  1.6267111312 & -0.4522252 &  0.3602563 & -0.7284002 &  0.1177088 & -0.1516827 & -0.21764134 &  1.2985021 & -0.07054145 &   8.963955\\\\\n\t3 & -1.3161934 & -1.1004158 & -0.3240349 &  1.0565807 & -0.57449662 &  0.27673481 & -1.1780727 & -0.60386788 &  2.0474585 &  0.09342082 & ⋯ & -1.4014454266 & -1.5600299 & -0.7253190 & -0.8483404 & -0.4441851 &  1.0180489 & -0.76544341 & -3.0653569 & -0.95598193 & -64.415354\\\\\n\t4 & -0.4300754 &  0.5912199 & -1.7823501 & -0.5893328 & -1.96122664 & -0.60152742 & -0.5491001 & -0.77731272 &  0.1558322 & -0.09651187 & ⋯ &  0.4721891809 & -0.8110158 &  1.2054505 &  0.3878268 &  0.1392851 &  0.5213172 &  0.60397087 & -0.3581790 &  0.30275414 & -23.231570\\\\\n\t5 & -1.7041097 &  0.7337126 &  0.5556403 & -0.5202545 &  0.97132538 & -0.08750157 &  1.3861404 & -0.82007171 & -0.6714180 &  0.56272898 & ⋯ & -0.4394351241 & -0.4246259 &  0.3427271 & -0.3440595 & -0.3373668 &  0.4835820 &  1.65576385 & -1.7200239 &  2.44953710 &   9.091394\\\\\n\t6 & -0.8421374 &  0.2172776 & -0.6484185 &  0.7050629 & -0.71319912 & -0.81338113 &  1.4445739 &  0.30572590 & -0.6315070 & -0.91910401 & ⋯ &  1.2367974446 & -0.7241897 & -0.0585925 &  1.0907596 & -1.3516668 & -1.2092952 & -0.09150935 &  0.1976621 &  0.91661609 & -18.325699\\\\\n\\end{tabular}\n",
            "text/plain": [
              "  x1         x2         x3         x4         x5          x6         \n",
              "1 -0.1083223 -0.5378214 -1.9110071 -0.6757286 -0.14921264  1.50785679\n",
              "2  0.2507904 -1.1969442  0.5907921  0.6005075 -0.09221769  0.27500363\n",
              "3 -1.3161934 -1.1004158 -0.3240349  1.0565807 -0.57449662  0.27673481\n",
              "4 -0.4300754  0.5912199 -1.7823501 -0.5893328 -1.96122664 -0.60152742\n",
              "5 -1.7041097  0.7337126  0.5556403 -0.5202545  0.97132538 -0.08750157\n",
              "6 -0.8421374  0.2172776 -0.6484185  0.7050629 -0.71319912 -0.81338113\n",
              "  x7         x8          x9         x10         ⋯ x12           x13       \n",
              "1 -0.3325382 -0.14536575  0.2946815  0.63091298 ⋯  0.0003800058  1.8734317\n",
              "2 -1.6784429  0.05290521  0.2421294 -1.27451448 ⋯  1.6267111312 -0.4522252\n",
              "3 -1.1780727 -0.60386788  2.0474585  0.09342082 ⋯ -1.4014454266 -1.5600299\n",
              "4 -0.5491001 -0.77731272  0.1558322 -0.09651187 ⋯  0.4721891809 -0.8110158\n",
              "5  1.3861404 -0.82007171 -0.6714180  0.56272898 ⋯ -0.4394351241 -0.4246259\n",
              "6  1.4445739  0.30572590 -0.6315070 -0.91910401 ⋯  1.2367974446 -0.7241897\n",
              "  x14        x15        x16        x17        x18         x19       \n",
              "1  0.9301000 -0.7877513  0.5288239 -0.6157966 -0.81792875 -0.5327131\n",
              "2  0.3602563 -0.7284002  0.1177088 -0.1516827 -0.21764134  1.2985021\n",
              "3 -0.7253190 -0.8483404 -0.4441851  1.0180489 -0.76544341 -3.0653569\n",
              "4  1.2054505  0.3878268  0.1392851  0.5213172  0.60397087 -0.3581790\n",
              "5  0.3427271 -0.3440595 -0.3373668  0.4835820  1.65576385 -1.7200239\n",
              "6 -0.0585925  1.0907596 -1.3516668 -1.2092952 -0.09150935  0.1976621\n",
              "  x20         Y2        \n",
              "1 -0.46959444   3.108448\n",
              "2 -0.07054145   8.963955\n",
              "3 -0.95598193 -64.415354\n",
              "4  0.30275414 -23.231570\n",
              "5  2.44953710   9.091394\n",
              "6  0.91661609 -18.325699"
            ]
          },
          "metadata": {}
        }
      ],
      "source": [
        "# WRITE YOUR CODE HERE\n",
        "library(tidyverse)\n",
        "set.seed(1234)\n",
        "n2 <- 1000\n",
        "p <- 20\n",
        "xnames <- paste0(\"x\", 1:p)\n",
        "beta <- c(runif(10, 1, 10), rep(0, 6)) %>% sample()\n",
        "error2 <- rnorm(n2)\n",
        "\n",
        "# Equation\n",
        "Y_form <- paste0(beta, \"*\", xnames) %>% paste0(., collapse = \"+\")\n",
        "\n",
        "# Splitting data\n",
        "df_train <- sample(n2, 100)\n",
        "total_df <- matrix(nrow = n2, ncol = p, dimnames = list(1:n2, xnames)) %>%\n",
        "  as.data.frame() %>%\n",
        "  mutate(across(everything(), ~rnorm(n2))) %>%\n",
        "  mutate(Y2 = eval(parse(text = Y_form)) + error2)\n",
        "\n",
        "train <- total_df[df_train,]\n",
        "test <- total_df[-df_train,]\n",
        "\n",
        "head(total_df)"
      ],
      "id": "3f113879"
    },
    {
      "cell_type": "markdown",
      "metadata": {
        "id": "5886639c"
      },
      "source": [
        "b) Perform best subset selection on the training set, and plot the associated training and test set MSE for the best model of each size."
      ],
      "id": "5886639c"
    },
    {
      "cell_type": "code",
      "execution_count": 50,
      "metadata": {
        "id": "a1dbdf04",
        "colab": {
          "base_uri": "https://localhost:8080/",
          "height": 1000
        },
        "outputId": "1fc1a6f2-d943-4c4d-fa7b-86e7bbec32d2"
      },
      "outputs": [
        {
          "output_type": "display_data",
          "data": {
            "text/plain": [
              "Subset selection object\n",
              "Call: regsubsets.formula(Y2 ~ ., data = train, nvmax = p)\n",
              "20 Variables  (and intercept)\n",
              "    Forced in Forced out\n",
              "x1      FALSE      FALSE\n",
              "x2      FALSE      FALSE\n",
              "x3      FALSE      FALSE\n",
              "x4      FALSE      FALSE\n",
              "x5      FALSE      FALSE\n",
              "x6      FALSE      FALSE\n",
              "x7      FALSE      FALSE\n",
              "x8      FALSE      FALSE\n",
              "x9      FALSE      FALSE\n",
              "x10     FALSE      FALSE\n",
              "x11     FALSE      FALSE\n",
              "x12     FALSE      FALSE\n",
              "x13     FALSE      FALSE\n",
              "x14     FALSE      FALSE\n",
              "x15     FALSE      FALSE\n",
              "x16     FALSE      FALSE\n",
              "x17     FALSE      FALSE\n",
              "x18     FALSE      FALSE\n",
              "x19     FALSE      FALSE\n",
              "x20     FALSE      FALSE\n",
              "1 subsets of each size up to 20\n",
              "Selection Algorithm: exhaustive\n",
              "          x1  x2  x3  x4  x5  x6  x7  x8  x9  x10 x11 x12 x13 x14 x15 x16 x17\n",
              "1  ( 1 )  \" \" \" \" \" \" \" \" \" \" \" \" \" \" \" \" \" \" \" \" \" \" \" \" \" \" \" \" \" \" \" \" \" \"\n",
              "2  ( 1 )  \" \" \" \" \" \" \" \" \" \" \" \" \" \" \" \" \" \" \" \" \" \" \" \" \"*\" \" \" \" \" \" \" \" \"\n",
              "3  ( 1 )  \" \" \" \" \" \" \" \" \" \" \" \" \" \" \" \" \" \" \" \" \" \" \"*\" \"*\" \" \" \" \" \" \" \" \"\n",
              "4  ( 1 )  \" \" \" \" \" \" \" \" \" \" \" \" \" \" \" \" \" \" \" \" \" \" \"*\" \"*\" \" \" \" \" \" \" \" \"\n",
              "5  ( 1 )  \" \" \" \" \"*\" \" \" \" \" \" \" \" \" \" \" \" \" \" \" \" \" \"*\" \"*\" \" \" \" \" \" \" \" \"\n",
              "6  ( 1 )  \" \" \"*\" \"*\" \" \" \" \" \" \" \" \" \" \" \" \" \" \" \" \" \"*\" \"*\" \" \" \" \" \"*\" \" \"\n",
              "7  ( 1 )  \" \" \"*\" \"*\" \" \" \"*\" \" \" \" \" \" \" \" \" \" \" \" \" \"*\" \"*\" \" \" \" \" \" \" \" \"\n",
              "8  ( 1 )  \" \" \"*\" \"*\" \" \" \"*\" \" \" \" \" \" \" \" \" \" \" \" \" \"*\" \"*\" \" \" \" \" \"*\" \" \"\n",
              "9  ( 1 )  \" \" \"*\" \"*\" \" \" \"*\" \"*\" \" \" \" \" \" \" \" \" \" \" \"*\" \"*\" \" \" \" \" \"*\" \" \"\n",
              "10  ( 1 ) \" \" \"*\" \"*\" \" \" \"*\" \"*\" \" \" \" \" \" \" \"*\" \" \" \"*\" \"*\" \" \" \" \" \"*\" \" \"\n",
              "11  ( 1 ) \" \" \"*\" \"*\" \" \" \"*\" \"*\" \" \" \" \" \" \" \"*\" \" \" \"*\" \"*\" \"*\" \" \" \"*\" \" \"\n",
              "12  ( 1 ) \" \" \"*\" \"*\" \" \" \"*\" \"*\" \" \" \" \" \" \" \"*\" \" \" \"*\" \"*\" \"*\" \" \" \"*\" \" \"\n",
              "13  ( 1 ) \" \" \"*\" \"*\" \"*\" \"*\" \"*\" \" \" \" \" \" \" \"*\" \" \" \"*\" \"*\" \"*\" \" \" \"*\" \" \"\n",
              "14  ( 1 ) \" \" \"*\" \"*\" \"*\" \"*\" \"*\" \" \" \"*\" \" \" \"*\" \" \" \"*\" \"*\" \"*\" \" \" \"*\" \" \"\n",
              "15  ( 1 ) \" \" \"*\" \"*\" \"*\" \"*\" \"*\" \" \" \"*\" \" \" \"*\" \"*\" \"*\" \"*\" \"*\" \" \" \"*\" \" \"\n",
              "16  ( 1 ) \" \" \"*\" \"*\" \"*\" \"*\" \"*\" \"*\" \"*\" \" \" \"*\" \"*\" \"*\" \"*\" \"*\" \" \" \"*\" \" \"\n",
              "17  ( 1 ) \" \" \"*\" \"*\" \"*\" \"*\" \"*\" \"*\" \"*\" \" \" \"*\" \"*\" \"*\" \"*\" \"*\" \" \" \"*\" \"*\"\n",
              "18  ( 1 ) \"*\" \"*\" \"*\" \"*\" \"*\" \"*\" \"*\" \"*\" \" \" \"*\" \"*\" \"*\" \"*\" \"*\" \" \" \"*\" \"*\"\n",
              "19  ( 1 ) \"*\" \"*\" \"*\" \"*\" \"*\" \"*\" \"*\" \"*\" \" \" \"*\" \"*\" \"*\" \"*\" \"*\" \"*\" \"*\" \"*\"\n",
              "20  ( 1 ) \"*\" \"*\" \"*\" \"*\" \"*\" \"*\" \"*\" \"*\" \"*\" \"*\" \"*\" \"*\" \"*\" \"*\" \"*\" \"*\" \"*\"\n",
              "          x18 x19 x20\n",
              "1  ( 1 )  \"*\" \" \" \" \"\n",
              "2  ( 1 )  \"*\" \" \" \" \"\n",
              "3  ( 1 )  \"*\" \" \" \" \"\n",
              "4  ( 1 )  \"*\" \"*\" \" \"\n",
              "5  ( 1 )  \"*\" \"*\" \" \"\n",
              "6  ( 1 )  \"*\" \" \" \" \"\n",
              "7  ( 1 )  \"*\" \"*\" \" \"\n",
              "8  ( 1 )  \"*\" \"*\" \" \"\n",
              "9  ( 1 )  \"*\" \"*\" \" \"\n",
              "10  ( 1 ) \"*\" \"*\" \" \"\n",
              "11  ( 1 ) \"*\" \"*\" \" \"\n",
              "12  ( 1 ) \"*\" \"*\" \"*\"\n",
              "13  ( 1 ) \"*\" \"*\" \"*\"\n",
              "14  ( 1 ) \"*\" \"*\" \"*\"\n",
              "15  ( 1 ) \"*\" \"*\" \"*\"\n",
              "16  ( 1 ) \"*\" \"*\" \"*\"\n",
              "17  ( 1 ) \"*\" \"*\" \"*\"\n",
              "18  ( 1 ) \"*\" \"*\" \"*\"\n",
              "19  ( 1 ) \"*\" \"*\" \"*\"\n",
              "20  ( 1 ) \"*\" \"*\" \"*\""
            ]
          },
          "metadata": {}
        }
      ],
      "source": [
        "# WRITE YOUR CODE HERE\n",
        "\n",
        "train_model <- regsubsets(Y2 ~., data=train, nvmax = p)\n",
        "summary(train_model)\n"
      ],
      "id": "a1dbdf04"
    },
    {
      "cell_type": "code",
      "source": [
        "# Training MSE\n",
        "train_matrix <- model.matrix(Y2 ~., data=train)\n",
        "train_error <- rep(NA, p)\n",
        "for (i in 1:p) {\n",
        "  coefi = coef(train_model, id=i)\n",
        "  pred = train_matrix[, names(coefi)] %*% coefi\n",
        "  train_error[i] = mean((pred - train$Y2)^2) # Calculate MSE\n",
        "\n",
        "}\n",
        "\n",
        "plot(train_error,\n",
        "xlab = \"Number of Predictors\",\n",
        "ylab = \"Train MSE\")\n",
        "\n",
        "# Test MSE\n",
        "test_matrix <- model.matrix(Y2 ~., data=test)\n",
        "test_error <- rep(NA, p)\n",
        "for (i in 1:p) {\n",
        "  coefi = coef(train_model, id=i)\n",
        "  pred = test_matrix[, names(coefi)] %*% coefi\n",
        "  test_error[i] = mean((pred - test$Y2)^2) # Calculate MSE\n",
        "\n",
        "}\n",
        "\n",
        "plot(test_error,\n",
        "xlab = \"Number of Predictors\",\n",
        "ylab = \"Test MSE\")"
      ],
      "metadata": {
        "colab": {
          "base_uri": "https://localhost:8080/",
          "height": 857
        },
        "id": "ZNK2ZOjq_iQZ",
        "outputId": "c249d939-3883-41d2-a14c-25113ca84860"
      },
      "id": "ZNK2ZOjq_iQZ",
      "execution_count": 51,
      "outputs": [
        {
          "output_type": "display_data",
          "data": {
            "text/plain": [
              "plot without title"
            ],
            "image/png": "[encoded data removed]"
          },
          "metadata": {
            "image/png": {
              "width": 420,
              "height": 420
            }
          }
        },
        {
          "output_type": "display_data",
          "data": {
            "text/plain": [
              "plot without title"
            ],
            "image/png": "[encoded data removed]"
          },
          "metadata": {
            "image/png": {
              "width": 420,
              "height": 420
            }
          }
        }
      ]
    },
    {
      "cell_type": "markdown",
      "metadata": {
        "id": "24f9d2f1"
      },
      "source": [
        "c) Identify the best model according the test MSE. How does this model compare to the actual model used to simulate the dataset?\n",
        "\n",
        "*Note: If the model identified contains only an intercept or all of the features, then generate a new dataset (i.e. repeat part a with a different random seed) until the test set MSE is minimized for an intermediate model size.*"
      ],
      "id": "24f9d2f1"
    },
    {
      "cell_type": "code",
      "execution_count": 52,
      "metadata": {
        "id": "87db7d52",
        "colab": {
          "base_uri": "https://localhost:8080/",
          "height": 86
        },
        "outputId": "924a492a-fe71-4c3e-b9d0-3eee0cc1bf71"
      },
      "outputs": [
        {
          "output_type": "display_data",
          "data": {
            "text/html": [
              "13"
            ],
            "text/markdown": "13",
            "text/latex": "13",
            "text/plain": [
              "[1] 13"
            ]
          },
          "metadata": {}
        },
        {
          "output_type": "stream",
          "name": "stderr",
          "text": [
            "Warning message in best_model - actual:\n",
            "“longer object length is not a multiple of shorter object length”\n"
          ]
        },
        {
          "output_type": "stream",
          "name": "stdout",
          "text": [
            "[1] -0.02769517\n"
          ]
        }
      ],
      "source": [
        "# WRITE YOUR CODE HERE\n",
        "which.min(test_error)\n",
        "best_model <- coef(train_model, id = 13)[-1] # Remove intercept\n",
        "actual = beta[which(!beta %in% 0)]\n",
        "\n",
        "best <- mean(best_model - actual)\n",
        "print(best) # difference of -0.028\n"
      ],
      "id": "87db7d52"
    },
    {
      "cell_type": "markdown",
      "metadata": {
        "id": "894b4503"
      },
      "source": [
        "> *The best model according to the MSE was model 13. It differed from the actual model by only -0.028.* \n",
        "> "
      ],
      "id": "894b4503"
    },
    {
      "cell_type": "markdown",
      "source": [],
      "metadata": {
        "id": "jEfCcJo5GduV"
      },
      "id": "jEfCcJo5GduV"
    },
    {
      "cell_type": "markdown",
      "metadata": {
        "id": "35b974f0"
      },
      "source": [
        "**DUE:** 5pm EST, April 10, 2023"
      ],
      "id": "35b974f0"
    },
    {
      "cell_type": "markdown",
      "metadata": {
        "id": "957a72c5"
      },
      "source": [
        "**IMPORTANT** Did you collaborate with anyone on this assignment? If so, list their names here. \n",
        "> *Tracie E. and Adwoa A.*"
      ],
      "id": "957a72c5"
    }
  ],
  "metadata": {
    "colab": {
      "provenance": [],
      "include_colab_link": true
    },
    "kernelspec": {
      "display_name": "R",
      "language": "R",
      "name": "ir"
    },
    "language_info": {
      "codemirror_mode": "r",
      "file_extension": ".r",
      "mimetype": "text/x-r-source",
      "name": "R",
      "pygments_lexer": "r",
      "version": "4.2.0"
    }
  },
  "nbformat": 4,
  "nbformat_minor": 5
}