{
  "cells": [
    {
      "cell_type": "markdown",
      "metadata": {
        "id": "view-in-github",
        "colab_type": "text"
      },
      "source": [
        "<a href=\"https://colab.research.google.com/github/erobrien6/OBrien_DSPN_S23/blob/main/Exercise12.ipynb\" target=\"_parent\"><img src=\"https://colab.research.google.com/assets/colab-badge.svg\" alt=\"Open In Colab\"/></a>"
      ]
    },
    {
      "cell_type": "markdown",
      "metadata": {
        "id": "6xdZ1WjBmtDf"
      },
      "source": [
        "# Exercise 12: Cross Validation\n",
        "-----\n",
        "\n",
        "In this exercise, we'll practice implementing cross validation techniques, including leave-one-out and k-fold cross validation. We'll use the `PimaIndiansDiabetes2` practice dataset, which has medical data on a group of Pima Native American women, including whether or not they have diabetes. This dataset is part of the `mlbench` package. We'll be using each person's medical history to predict whether or not they have been diagnosed with diabetes. "
      ]
    },
    {
      "cell_type": "markdown",
      "metadata": {
        "id": "BubJSLTamtDg"
      },
      "source": [
        "# 1: Data (1 pts)\n",
        "---\n",
        "\n",
        "Load the `tidyverse`, `boot`, and `mlbench` packages (you may need to install `boot` and `mlbench`).\n",
        "\n",
        "Load the `PimaIndiansDiabetes2` dataset using the `data()` function. Drop the `insulin` column (it just has a lot of missing data) and then drop `NA`s from the rest of the dataset. Save your updated dataset to a new variable name. Finally, print the dimensions of your new dataset, and look at the first few lines of data."
      ]
    },
    {
      "cell_type": "code",
      "execution_count": 44,
      "metadata": {
        "id": "QNuKGb6emtDg",
        "colab": {
          "base_uri": "https://localhost:8080/",
          "height": 338
        },
        "outputId": "8e9ac3e1-aa40-407d-99e5-d4039895baf4"
      },
      "outputs": [
        {
          "output_type": "display_data",
          "data": {
            "text/html": [
              "768"
            ],
            "text/markdown": "768",
            "text/latex": "768",
            "text/plain": [
              "[1] 768"
            ]
          },
          "metadata": {}
        },
        {
          "output_type": "display_data",
          "data": {
            "text/html": [
              "532"
            ],
            "text/markdown": "532",
            "text/latex": "532",
            "text/plain": [
              "[1] 532"
            ]
          },
          "metadata": {}
        },
        {
          "output_type": "display_data",
          "data": {
            "text/html": [
              "<table class=\"dataframe\">\n",
              "<caption>A data.frame: 6 × 8</caption>\n",
              "<thead>\n",
              "\t<tr><th></th><th scope=col>pregnant</th><th scope=col>glucose</th><th scope=col>pressure</th><th scope=col>triceps</th><th scope=col>mass</th><th scope=col>pedigree</th><th scope=col>age</th><th scope=col>diabetes</th></tr>\n",
              "\t<tr><th></th><th scope=col>&lt;dbl&gt;</th><th scope=col>&lt;dbl&gt;</th><th scope=col>&lt;dbl&gt;</th><th scope=col>&lt;dbl&gt;</th><th scope=col>&lt;dbl&gt;</th><th scope=col>&lt;dbl&gt;</th><th scope=col>&lt;dbl&gt;</th><th scope=col>&lt;fct&gt;</th></tr>\n",
              "</thead>\n",
              "<tbody>\n",
              "\t<tr><th scope=row>1</th><td>6</td><td>148</td><td>72</td><td>35</td><td>33.6</td><td>0.627</td><td>50</td><td>pos</td></tr>\n",
              "\t<tr><th scope=row>2</th><td>1</td><td> 85</td><td>66</td><td>29</td><td>26.6</td><td>0.351</td><td>31</td><td>neg</td></tr>\n",
              "\t<tr><th scope=row>4</th><td>1</td><td> 89</td><td>66</td><td>23</td><td>28.1</td><td>0.167</td><td>21</td><td>neg</td></tr>\n",
              "\t<tr><th scope=row>5</th><td>0</td><td>137</td><td>40</td><td>35</td><td>43.1</td><td>2.288</td><td>33</td><td>pos</td></tr>\n",
              "\t<tr><th scope=row>7</th><td>3</td><td> 78</td><td>50</td><td>32</td><td>31.0</td><td>0.248</td><td>26</td><td>pos</td></tr>\n",
              "\t<tr><th scope=row>9</th><td>2</td><td>197</td><td>70</td><td>45</td><td>30.5</td><td>0.158</td><td>53</td><td>pos</td></tr>\n",
              "</tbody>\n",
              "</table>\n"
            ],
            "text/markdown": "\nA data.frame: 6 × 8\n\n| <!--/--> | pregnant &lt;dbl&gt; | glucose &lt;dbl&gt; | pressure &lt;dbl&gt; | triceps &lt;dbl&gt; | mass &lt;dbl&gt; | pedigree &lt;dbl&gt; | age &lt;dbl&gt; | diabetes &lt;fct&gt; |\n|---|---|---|---|---|---|---|---|---|\n| 1 | 6 | 148 | 72 | 35 | 33.6 | 0.627 | 50 | pos |\n| 2 | 1 |  85 | 66 | 29 | 26.6 | 0.351 | 31 | neg |\n| 4 | 1 |  89 | 66 | 23 | 28.1 | 0.167 | 21 | neg |\n| 5 | 0 | 137 | 40 | 35 | 43.1 | 2.288 | 33 | pos |\n| 7 | 3 |  78 | 50 | 32 | 31.0 | 0.248 | 26 | pos |\n| 9 | 2 | 197 | 70 | 45 | 30.5 | 0.158 | 53 | pos |\n\n",
            "text/latex": "A data.frame: 6 × 8\n\\begin{tabular}{r|llllllll}\n  & pregnant & glucose & pressure & triceps & mass & pedigree & age & diabetes\\\\\n  & <dbl> & <dbl> & <dbl> & <dbl> & <dbl> & <dbl> & <dbl> & <fct>\\\\\n\\hline\n\t1 & 6 & 148 & 72 & 35 & 33.6 & 0.627 & 50 & pos\\\\\n\t2 & 1 &  85 & 66 & 29 & 26.6 & 0.351 & 31 & neg\\\\\n\t4 & 1 &  89 & 66 & 23 & 28.1 & 0.167 & 21 & neg\\\\\n\t5 & 0 & 137 & 40 & 35 & 43.1 & 2.288 & 33 & pos\\\\\n\t7 & 3 &  78 & 50 & 32 & 31.0 & 0.248 & 26 & pos\\\\\n\t9 & 2 & 197 & 70 & 45 & 30.5 & 0.158 & 53 & pos\\\\\n\\end{tabular}\n",
            "text/plain": [
              "  pregnant glucose pressure triceps mass pedigree age diabetes\n",
              "1 6        148     72       35      33.6 0.627    50  pos     \n",
              "2 1         85     66       29      26.6 0.351    31  neg     \n",
              "4 1         89     66       23      28.1 0.167    21  neg     \n",
              "5 0        137     40       35      43.1 2.288    33  pos     \n",
              "7 3         78     50       32      31.0 0.248    26  pos     \n",
              "9 2        197     70       45      30.5 0.158    53  pos     "
            ]
          },
          "metadata": {}
        },
        {
          "output_type": "display_data",
          "data": {
            "text/html": [
              "<style>\n",
              ".list-inline {list-style: none; margin:0; padding: 0}\n",
              ".list-inline>li {display: inline-block}\n",
              ".list-inline>li:not(:last-child)::after {content: \"\\00b7\"; padding: 0 .5ex}\n",
              "</style>\n",
              "<ol class=list-inline><li>532</li><li>8</li></ol>\n"
            ],
            "text/markdown": "1. 532\n2. 8\n\n\n",
            "text/latex": "\\begin{enumerate*}\n\\item 532\n\\item 8\n\\end{enumerate*}\n",
            "text/plain": [
              "[1] 532   8"
            ]
          },
          "metadata": {}
        }
      ],
      "source": [
        "# INSERT CODE HERE\n",
        "#install.packages('boot')\n",
        "#install.packages('mlbench')\n",
        "\n",
        "library(tidyverse)\n",
        "library(boot)\n",
        "library(mlbench)\n",
        "\n",
        "# Read in data\n",
        "data(PimaIndiansDiabetes2)\n",
        "df_pima <- PimaIndiansDiabetes2\n",
        "\n",
        "df_pima <- df_pima %>%\n",
        "  select(c(1:4, 6:9))\n",
        "\n",
        "# Drop NAs\n",
        "nrow(df_pima)\n",
        "df_final <- drop_na(df_pima)\n",
        "nrow(df_final) # Check that drop worked\n",
        "\n",
        "head(df_final)\n",
        "dim(df_final)\n"
      ]
    },
    {
      "cell_type": "markdown",
      "metadata": {
        "id": "_BRVQiWSmtDh"
      },
      "source": [
        "(Note that in medical contexts, `pedigree` refers to a system of measuring family history of a condition. So here, higher numbers mean greater family history of diabetes. You can read more about this dataset [here](https://rdrr.io/cran/mlbench/man/PimaIndiansDiabetes.html).)\n",
        "\n",
        "# 2. Leave-one-out Cross Validation (4 pts)\n",
        "\n",
        "In the tutorial, we learned how to fit leave-one-out cross validation using the `cv.glm` function from the `boot` package. But we can also do this manually using `predict()` like we have in the past.\n",
        "\n",
        "Let's predict `diabetes`, a dichotomous outcome, using all the other variables in our modified dataset. \n",
        "\n",
        "First, fit a logistic regression model using all of the observations except the very first one. Then use your fitted model to predict whether your holdout case is positive or negative for diabetes. Remember that logistic regression coefficients are in **log-odds**, meaning that if an output is positive, the probability of the outcome is greater than 50%; if the output is negative, the probability of the outcome is less than 50%. \n",
        "\n",
        "Compare your result to the actual response in row one above. Did your model correctly classify this observation?"
      ]
    },
    {
      "cell_type": "code",
      "execution_count": 45,
      "metadata": {
        "id": "RDyry5h_mtDi",
        "colab": {
          "base_uri": "https://localhost:8080/",
          "height": 555
        },
        "outputId": "56dd681d-c844-40a8-c434-17f42d55c9de"
      },
      "outputs": [
        {
          "output_type": "display_data",
          "data": {
            "text/html": [
              "531"
            ],
            "text/markdown": "531",
            "text/latex": "531",
            "text/plain": [
              "[1] 531"
            ]
          },
          "metadata": {}
        },
        {
          "output_type": "display_data",
          "data": {
            "text/plain": [
              "\n",
              "Call:\n",
              "glm(formula = diabetes ~ pregnant + glucose + pressure + triceps + \n",
              "    mass + pedigree + age, family = binomial, data = df_model)\n",
              "\n",
              "Deviance Residuals: \n",
              "    Min       1Q   Median       3Q      Max  \n",
              "-3.0041  -0.6633  -0.3704   0.6439   2.4793  \n",
              "\n",
              "Coefficients:\n",
              "             Estimate Std. Error z value Pr(>|z|)    \n",
              "(Intercept) -9.537281   0.993617  -9.599  < 2e-16 ***\n",
              "pregnant     0.122949   0.043708   2.813 0.004909 ** \n",
              "glucose      0.035231   0.004240   8.308  < 2e-16 ***\n",
              "pressure    -0.007469   0.010314  -0.724 0.468963    \n",
              "triceps      0.006572   0.014744   0.446 0.655779    \n",
              "mass         0.082720   0.023320   3.547 0.000389 ***\n",
              "pedigree     1.304616   0.363719   3.587 0.000335 ***\n",
              "age          0.025756   0.014017   1.838 0.066133 .  \n",
              "---\n",
              "Signif. codes:  0 ‘***’ 0.001 ‘**’ 0.01 ‘*’ 0.05 ‘.’ 0.1 ‘ ’ 1\n",
              "\n",
              "(Dispersion parameter for binomial family taken to be 1)\n",
              "\n",
              "    Null deviance: 674.58  on 530  degrees of freedom\n",
              "Residual deviance: 465.70  on 523  degrees of freedom\n",
              "AIC: 481.7\n",
              "\n",
              "Number of Fisher Scoring iterations: 5\n"
            ]
          },
          "metadata": {}
        },
        {
          "output_type": "display_data",
          "data": {
            "text/html": [
              "<strong>1:</strong> 0.729486981746287"
            ],
            "text/markdown": "**1:** 0.729486981746287",
            "text/latex": "\\textbf{1:} 0.729486981746287",
            "text/plain": [
              "       1 \n",
              "0.729487 "
            ]
          },
          "metadata": {}
        }
      ],
      "source": [
        "# Logistic Regression\n",
        "# Subset data to exlude first row\n",
        "df_model <- df_final[-1,]\n",
        "nrow(df_model)\n",
        "\n",
        "log_fit <- glm(diabetes ~ pregnant + glucose + pressure + triceps + mass + pedigree + age, data = df_model, family = binomial)\n",
        "summary(log_fit)\n",
        "\n",
        "# Predict diabetes\n",
        "\n",
        "df_model$diabetes <- as.factor(df_model$diabetes)\n",
        "new_case = df_final[1,]\n",
        "test <- predict(log_fit, new_case, type = \"response\")\n",
        "test\n",
        "\n",
        "# The outcome was 0.73, a positive number, meaning that there is above 50% chance\n",
        "# that the model classified this case as positive for diabetes\n",
        "\n"
      ]
    },
    {
      "cell_type": "markdown",
      "metadata": {
        "id": "sIPpDdd0mtDi"
      },
      "source": [
        "So we just calculated a single iteration of LOOCV. We used 531 rows of our data to fit a model to predict the outcome of the last row. \n",
        "\n",
        "Below, use a `for` loop to iterate through the rest of your dataset doing the same thing. You will need to:\n",
        "* Create a data frame `results` with two columns: one named `actual` which holds the true classification for each observation, and one named `predicted`, which should be filled with `NA`s. This is where you'll store the output of your loop.\n",
        "* Create a loop that runs through each row of your data, pulls that observation out, trains your model on the remaining data, and then tests the fitted model on your test observation.\n",
        "* Store your model *predictions* (\"pos\" or \"neg\" -- not the log-odds) in the `predicted` column of your `results` dataframe\n",
        "\n",
        "After you run your loop, print the first few lines of `results`."
      ]
    },
    {
      "cell_type": "code",
      "execution_count": 46,
      "metadata": {
        "id": "5Z1ijm_PmtDj",
        "colab": {
          "base_uri": "https://localhost:8080/",
          "height": 286
        },
        "outputId": "77572ec4-a798-4f46-bdcd-063cae7c7af2"
      },
      "outputs": [
        {
          "output_type": "display_data",
          "data": {
            "text/html": [
              "<table class=\"dataframe\">\n",
              "<caption>A data.frame: 6 × 2</caption>\n",
              "<thead>\n",
              "\t<tr><th></th><th scope=col>actual</th><th scope=col>predicted</th></tr>\n",
              "\t<tr><th></th><th scope=col>&lt;fct&gt;</th><th scope=col>&lt;chr&gt;</th></tr>\n",
              "</thead>\n",
              "<tbody>\n",
              "\t<tr><th scope=row>1</th><td>pos</td><td>pos</td></tr>\n",
              "\t<tr><th scope=row>2</th><td>neg</td><td>neg</td></tr>\n",
              "\t<tr><th scope=row>3</th><td>neg</td><td>neg</td></tr>\n",
              "\t<tr><th scope=row>4</th><td>pos</td><td>pos</td></tr>\n",
              "\t<tr><th scope=row>5</th><td>pos</td><td>neg</td></tr>\n",
              "\t<tr><th scope=row>6</th><td>pos</td><td>pos</td></tr>\n",
              "</tbody>\n",
              "</table>\n"
            ],
            "text/markdown": "\nA data.frame: 6 × 2\n\n| <!--/--> | actual &lt;fct&gt; | predicted &lt;chr&gt; |\n|---|---|---|\n| 1 | pos | pos |\n| 2 | neg | neg |\n| 3 | neg | neg |\n| 4 | pos | pos |\n| 5 | pos | neg |\n| 6 | pos | pos |\n\n",
            "text/latex": "A data.frame: 6 × 2\n\\begin{tabular}{r|ll}\n  & actual & predicted\\\\\n  & <fct> & <chr>\\\\\n\\hline\n\t1 & pos & pos\\\\\n\t2 & neg & neg\\\\\n\t3 & neg & neg\\\\\n\t4 & pos & pos\\\\\n\t5 & pos & neg\\\\\n\t6 & pos & pos\\\\\n\\end{tabular}\n",
            "text/plain": [
              "  actual predicted\n",
              "1 pos    pos      \n",
              "2 neg    neg      \n",
              "3 neg    neg      \n",
              "4 pos    pos      \n",
              "5 pos    neg      \n",
              "6 pos    pos      "
            ]
          },
          "metadata": {}
        }
      ],
      "source": [
        "# Initialize `results` data frame\n",
        "results <- data.frame(actual = df_final$diabetes, predicted = NA)\n",
        "\n",
        "#for loop\n",
        "for (i in 1:nrow(df_final)){ \n",
        "    # separate individual observation `i` from the rest of your data\n",
        "    df_train <- df_final[-i,]\n",
        "    \n",
        "    # train your model\n",
        "    log_fit2 <- glm(diabetes ~ pregnant + glucose + pressure + triceps + mass + pedigree + age, data = df_train, family = binomial)\n",
        "    \n",
        "    # test model on hold out observation\n",
        "    df_train$diabetes <- as.factor(df_train$diabetes)\n",
        "    new_case = df_final[i,]\n",
        "    result = predict(log_fit2, new_case, type = \"response\") \n",
        "    \n",
        "    # classify model prediction as \"pos\" or \"neg\" and add to `results`\n",
        "    if(result >= 0.5){\n",
        "      pred = \"pos\"\n",
        "    } else {\n",
        "      pred = \"neg\"\n",
        "    }\n",
        "    results[i, 'predicted'] = pred\n",
        "    \n",
        "}\n",
        "head(results)"
      ]
    },
    {
      "cell_type": "markdown",
      "metadata": {
        "id": "42Jng_EEmtDk"
      },
      "source": [
        "Now, calculate the overall error of your model. What proportion of cases were incorrectly classified?"
      ]
    },
    {
      "cell_type": "code",
      "execution_count": 47,
      "metadata": {
        "id": "SYhKS5HimtDk",
        "colab": {
          "base_uri": "https://localhost:8080/"
        },
        "outputId": "6eb7c470-64a4-47c9-fbd9-8398e5326060"
      },
      "outputs": [
        {
          "output_type": "stream",
          "name": "stdout",
          "text": [
            "[1] \"Overall Error: 0.221804511278195\"\n"
          ]
        }
      ],
      "source": [
        "correct = 0\n",
        "total = 0\n",
        "for (i in 1:nrow(results)){\n",
        "  total = total + 1\n",
        "  if(results[i, 'actual'] == results[i, 'predicted']){\n",
        "    correct = correct + 1\n",
        "  }\n",
        "}\n",
        "\n",
        "error = 1 - (correct/total)\n",
        "print(paste(\"Overall Error:\", error)) #0.222\n"
      ]
    },
    {
      "cell_type": "markdown",
      "metadata": {
        "id": "W1TwL8BimtDl"
      },
      "source": [
        "# 3. Compare to `cv.glm` (3 pts)\n",
        "\n",
        "Now, let's compare this result to the `cv.glm` function. Using the tutorial as a guide, use `cv.glm` to run LOOCV on the data, using the same model (i.e., still using all of the variables to predict diabetes diagnosis).\n",
        "\n",
        "Note that, because this is a `classification` problem and not a regression problem like in the tutorial, we need to adjust the `cost` argument of `cv.glm`. We can read more about this in the docs:"
      ]
    },
    {
      "cell_type": "code",
      "execution_count": 48,
      "metadata": {
        "id": "wIUAW1AtmtDl",
        "colab": {
          "base_uri": "https://localhost:8080/",
          "height": 34
        },
        "outputId": "ae392570-2e9a-463b-a6cd-93b2b6c5f8c6"
      },
      "outputs": [
        {
          "output_type": "display_data",
          "data": {
            "text/html": [
              "<style>\n",
              ".list-inline {list-style: none; margin:0; padding: 0}\n",
              ".list-inline>li {display: inline-block}\n",
              ".list-inline>li:not(:last-child)::after {content: \"\\00b7\"; padding: 0 .5ex}\n",
              "</style>\n",
              "<ol class=list-inline><li>0.147311252688358</li><li>0.147305594877011</li></ol>\n"
            ],
            "text/markdown": "1. 0.147311252688358\n2. 0.147305594877011\n\n\n",
            "text/latex": "\\begin{enumerate*}\n\\item 0.147311252688358\n\\item 0.147305594877011\n\\end{enumerate*}\n",
            "text/plain": [
              "[1] 0.1473113 0.1473056"
            ]
          },
          "metadata": {}
        }
      ],
      "source": [
        "#?cv.glm\n",
        "cv_model = cv.glm(df_model, log_fit, K=nrow(df_model))\n",
        "cv_model$delta\n",
        "\n"
      ]
    },
    {
      "cell_type": "markdown",
      "metadata": {
        "id": "SWhbyxtymtDl"
      },
      "source": [
        "Here, we see `cost` is defined as: \n",
        "> \"A function of two vector arguments specifying the cost function for the cross-validation. The first argument to cost should correspond to the **observed responses** and the second argument should correspond to the **predicted or fitted responses** from the generalized linear model.\"\n",
        "\n",
        "In the example code (scroll to bottom of the docs), we see that the appropriate cost function for a binary classification is \n",
        "\n",
        "``\n",
        "cost <- function(r, pi = 0) mean(abs(r-pi) > 0.5)\n",
        "``\n",
        "\n",
        "Where `r` is the vector of observed responses (technically \"pos\" and \"neg\", but R treats these as 1 and 0 under the hood), and `pi` is the vector of *probabilities* (not log-odds) fit by the model. Thus, this boils down to our error: what proportion of observations were incorrectly classified. You will need to include this code below."
      ]
    },
    {
      "cell_type": "code",
      "execution_count": 49,
      "metadata": {
        "id": "bJiCmfqomtDl",
        "colab": {
          "base_uri": "https://localhost:8080/",
          "height": 34
        },
        "outputId": "7b6a40cc-ec19-46f0-9ae9-a9b243a3da74"
      },
      "outputs": [
        {
          "output_type": "display_data",
          "data": {
            "text/html": [
              "<style>\n",
              ".list-inline {list-style: none; margin:0; padding: 0}\n",
              ".list-inline>li {display: inline-block}\n",
              ".list-inline>li:not(:last-child)::after {content: \"\\00b7\"; padding: 0 .5ex}\n",
              "</style>\n",
              "<ol class=list-inline><li>0.224105461393597</li><li>0.225055947453725</li></ol>\n"
            ],
            "text/markdown": "1. 0.224105461393597\n2. 0.225055947453725\n\n\n",
            "text/latex": "\\begin{enumerate*}\n\\item 0.224105461393597\n\\item 0.225055947453725\n\\end{enumerate*}\n",
            "text/plain": [
              "[1] 0.2241055 0.2250559"
            ]
          },
          "metadata": {}
        }
      ],
      "source": [
        "cost <- function(r, pi = 0) mean(abs(r-pi) > 0.5)\n",
        "cv_model = cv.glm(df_model, log_fit, cost, K=nrow(df_model))\n",
        "cv_model$delta\n",
        "\n",
        "#0.224 unadj, 0.225 adj"
      ]
    },
    {
      "cell_type": "markdown",
      "metadata": {
        "id": "IcEuGX3FmtDm"
      },
      "source": [
        "How do your results compare to your manual LOOCV above?\n",
        "\n",
        "> * *The manual LOOCV seems to have been slightly better at correctly classifying diabetes cases because its error was 0.222, whereas the cv.glm error was slightly higher at 0.225.*"
      ]
    },
    {
      "cell_type": "markdown",
      "metadata": {
        "id": "6Y2tL4NpmtDm"
      },
      "source": [
        "# 4. Adjusting K and Reflection (2 pts)\n",
        "\n",
        "Recall that LOOCV has some drawbacks. In particular, it has quite high *variance* which can lead to poor performance on new test data. We can reduce this variance by increasing K.\n",
        "\n",
        "Below, re-run your cross validation using `cv.glm` with `k` set to 3, 5, 10, and 15. "
      ]
    },
    {
      "cell_type": "code",
      "execution_count": 54,
      "metadata": {
        "id": "vZYq_NQlmtDm",
        "scrolled": true,
        "colab": {
          "base_uri": "https://localhost:8080/",
          "height": 86
        },
        "outputId": "51177412-87b6-4dc9-b213-e348e8bf4b7f"
      },
      "outputs": [
        {
          "output_type": "display_data",
          "data": {
            "text/html": [
              "<style>\n",
              ".list-inline {list-style: none; margin:0; padding: 0}\n",
              ".list-inline>li {display: inline-block}\n",
              ".list-inline>li:not(:last-child)::after {content: \"\\00b7\"; padding: 0 .5ex}\n",
              "</style>\n",
              "<ol class=list-inline><li>0.210922787193974</li><li>0.215317011927181</li></ol>\n"
            ],
            "text/markdown": "1. 0.210922787193974\n2. 0.215317011927181\n\n\n",
            "text/latex": "\\begin{enumerate*}\n\\item 0.210922787193974\n\\item 0.215317011927181\n\\end{enumerate*}\n",
            "text/plain": [
              "[1] 0.2109228 0.2153170"
            ]
          },
          "metadata": {}
        },
        {
          "output_type": "display_data",
          "data": {
            "text/html": [
              "<style>\n",
              ".list-inline {list-style: none; margin:0; padding: 0}\n",
              ".list-inline>li {display: inline-block}\n",
              ".list-inline>li:not(:last-child)::after {content: \"\\00b7\"; padding: 0 .5ex}\n",
              "</style>\n",
              "<ol class=list-inline><li>0.222222222222222</li><li>0.22447785332014</li></ol>\n"
            ],
            "text/markdown": "1. 0.222222222222222\n2. 0.22447785332014\n\n\n",
            "text/latex": "\\begin{enumerate*}\n\\item 0.222222222222222\n\\item 0.22447785332014\n\\end{enumerate*}\n",
            "text/plain": [
              "[1] 0.2222222 0.2244779"
            ]
          },
          "metadata": {}
        },
        {
          "output_type": "display_data",
          "data": {
            "text/html": [
              "<style>\n",
              ".list-inline {list-style: none; margin:0; padding: 0}\n",
              ".list-inline>li {display: inline-block}\n",
              ".list-inline>li:not(:last-child)::after {content: \"\\00b7\"; padding: 0 .5ex}\n",
              "</style>\n",
              "<ol class=list-inline><li>0.220338983050847</li><li>0.22432180336997</li></ol>\n"
            ],
            "text/markdown": "1. 0.220338983050847\n2. 0.22432180336997\n\n\n",
            "text/latex": "\\begin{enumerate*}\n\\item 0.220338983050847\n\\item 0.22432180336997\n\\end{enumerate*}\n",
            "text/plain": [
              "[1] 0.2203390 0.2243218"
            ]
          },
          "metadata": {}
        },
        {
          "output_type": "display_data",
          "data": {
            "text/html": [
              "<style>\n",
              ".list-inline {list-style: none; margin:0; padding: 0}\n",
              ".list-inline>li {display: inline-block}\n",
              ".list-inline>li:not(:last-child)::after {content: \"\\00b7\"; padding: 0 .5ex}\n",
              "</style>\n",
              "<ol class=list-inline><li>0.225988700564972</li><li>0.228315263458422</li></ol>\n"
            ],
            "text/markdown": "1. 0.225988700564972\n2. 0.228315263458422\n\n\n",
            "text/latex": "\\begin{enumerate*}\n\\item 0.225988700564972\n\\item 0.228315263458422\n\\end{enumerate*}\n",
            "text/plain": [
              "[1] 0.2259887 0.2283153"
            ]
          },
          "metadata": {}
        }
      ],
      "source": [
        "set.seed(1)\n",
        "cost <- function(r, pi = 0) mean(abs(r-pi) > 0.5)\n",
        "\n",
        "# K = 3\n",
        "cv_model1 = cv.glm(df_model, log_fit, cost, K=3)\n",
        "cv_model1$delta\n",
        "\n",
        "# K = 5\n",
        "cv_model2 = cv.glm(df_model, log_fit, cost, K=5)\n",
        "cv_model2$delta\n",
        "\n",
        "# K = 10\n",
        "cv_model3 = cv.glm(df_model, log_fit, cost, K=10)\n",
        "cv_model3$delta\n",
        "\n",
        "# K = 15\n",
        "cv_model4 = cv.glm(df_model, log_fit, cost, K=15)\n",
        "cv_model4$delta\n",
        "\n"
      ]
    },
    {
      "cell_type": "markdown",
      "metadata": {
        "id": "fI5Y1OqOmtDn"
      },
      "source": [
        "#### Reflection\n",
        "\n",
        "How do your errors compare to your LOOCV error above? How do they change as k increases?\n",
        "> * *For k less than or equal to 5, the error is smaller than the LOOCV error above (0.225). However, as k increases, the error continues to increase in small increments, so k = 3 is the best choice for increasing the model fitting accuracy here.*\n",
        "> \n",
        "\n",
        "\n",
        "If you change the random seed above, you'll get slightly different errors. If you were to do the same with your LOOCV above , would you expect to get different results each time? Why or why not?\n",
        "> * *I would expect the results to stay consistent for the LOOCV. For the random seed above, the seed sets the randomization starting point of the models, so there could be more variation in classification (and more variation in error) when k is lower versus higher. When k is maxxed out (LOOCV), we are running our model iteratively on one case at a time, and the model is trained on every data point besides the one excluded, so the error should stay consistent.*\n",
        "> \n",
        "\n",
        "\n",
        "**DUE:** 5pm March 27, 2023\n",
        "\n",
        "**IMPORTANT** Did you collaborate with anyone on this assignment? If so, list their names here.\n",
        "> *Someone's Name*\n",
        ">\n",
        ">\n",
        "\n"
      ]
    }
  ],
  "metadata": {
    "colab": {
      "provenance": [],
      "include_colab_link": true
    },
    "kernelspec": {
      "display_name": "R",
      "language": "R",
      "name": "ir"
    },
    "language_info": {
      "codemirror_mode": "r",
      "file_extension": ".r",
      "mimetype": "text/x-r-source",
      "name": "R",
      "pygments_lexer": "r",
      "version": "4.2.0"
    }
  },
  "nbformat": 4,
  "nbformat_minor": 0
}